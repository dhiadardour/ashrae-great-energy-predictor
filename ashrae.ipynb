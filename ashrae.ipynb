{
  "nbformat": 4,
  "nbformat_minor": 0,
  "metadata": {
    "colab": {
      "name": "deeplear2().ipynb",
      "provenance": [],
      "collapsed_sections": [],
      "machine_shape": "hm"
    },
    "kernelspec": {
      "name": "python3",
      "display_name": "Python 3"
    }
  },
  "cells": [
    {
      "cell_type": "code",
      "metadata": {
        "id": "lJT2d5Cwe27z",
        "colab_type": "code",
        "colab": {}
      },
      "source": [
        "!rm -dr ~/.kaggle\n",
        "!pip install -U -q kaggle\n",
        "\n",
        "!mkdir -p ~/.kaggle\n",
        "from google.colab import files"
      ],
      "execution_count": 0,
      "outputs": []
    },
    {
      "cell_type": "code",
      "metadata": {
        "id": "GDD_PYHYe9oD",
        "colab_type": "code",
        "outputId": "ba02c782-b494-4402-8a5b-9ba92e4ee0dd",
        "colab": {
          "resources": {
            "http://localhost:8080/nbextensions/google.colab/files.js": {
              "data": "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",
              "ok": true,
              "headers": [
                [
                  "content-type",
                  "application/javascript"
                ]
              ],
              "status": 200,
              "status_text": ""
            }
          },
          "base_uri": "https://localhost:8080/",
          "height": 91
        }
      },
      "source": [
        "files.upload()"
      ],
      "execution_count": 0,
      "outputs": [
        {
          "output_type": "display_data",
          "data": {
            "text/html": [
              "\n",
              "     <input type=\"file\" id=\"files-5c06b6b3-1f36-4d6b-bf6c-1da5388242a3\" name=\"files[]\" multiple disabled />\n",
              "     <output id=\"result-5c06b6b3-1f36-4d6b-bf6c-1da5388242a3\">\n",
              "      Upload widget is only available when the cell has been executed in the\n",
              "      current browser session. Please rerun this cell to enable.\n",
              "      </output>\n",
              "      <script src=\"/nbextensions/google.colab/files.js\"></script> "
            ],
            "text/plain": [
              "<IPython.core.display.HTML object>"
            ]
          },
          "metadata": {
            "tags": []
          }
        },
        {
          "output_type": "stream",
          "text": [
            "Saving kaggle.json to kaggle.json\n"
          ],
          "name": "stdout"
        },
        {
          "output_type": "execute_result",
          "data": {
            "text/plain": [
              "{'kaggle.json': b'{\"username\":\"dhiadardour\",\"key\":\"b02370aaefadc98ad906cb293924adb6\"}'}"
            ]
          },
          "metadata": {
            "tags": []
          },
          "execution_count": 3
        }
      ]
    },
    {
      "cell_type": "code",
      "metadata": {
        "id": "obg_iSuefXgm",
        "colab_type": "code",
        "colab": {}
      },
      "source": [
        "!cp kaggle.json ~/.kaggle/"
      ],
      "execution_count": 0,
      "outputs": []
    },
    {
      "cell_type": "code",
      "metadata": {
        "id": "09fjU0kCghjg",
        "colab_type": "code",
        "colab": {}
      },
      "source": [
        "!chmod 600 ~/.kaggle/kaggle.json"
      ],
      "execution_count": 0,
      "outputs": []
    },
    {
      "cell_type": "code",
      "metadata": {
        "id": "aS_BvRWYgk3b",
        "colab_type": "code",
        "outputId": "a522e884-c74e-4e79-9a0c-12850b061a8d",
        "colab": {
          "base_uri": "https://localhost:8080/",
          "height": 340
        }
      },
      "source": [
        "!kaggle competitions download -c ashrae-energy-prediction"
      ],
      "execution_count": 0,
      "outputs": [
        {
          "output_type": "stream",
          "text": [
            "Warning: Looks like you're using an outdated API Version, please consider updating (server 1.5.6 / client 1.5.4)\n",
            "Downloading train.csv.zip to /content\n",
            " 96% 115M/120M [00:00<00:00, 113MB/s]  \n",
            "100% 120M/120M [00:00<00:00, 145MB/s]\n",
            "Downloading weather_train.csv.zip to /content\n",
            "  0% 0.00/1.27M [00:00<?, ?B/s]\n",
            "100% 1.27M/1.27M [00:00<00:00, 179MB/s]\n",
            "Downloading sample_submission.csv.zip to /content\n",
            " 94% 83.0M/88.4M [00:02<00:00, 29.1MB/s]\n",
            "100% 88.4M/88.4M [00:02<00:00, 42.7MB/s]\n",
            "Downloading test.csv.zip to /content\n",
            " 92% 153M/167M [00:01<00:00, 126MB/s]\n",
            "100% 167M/167M [00:01<00:00, 123MB/s]\n",
            "Downloading building_metadata.csv to /content\n",
            "  0% 0.00/44.5k [00:00<?, ?B/s]\n",
            "100% 44.5k/44.5k [00:00<00:00, 14.5MB/s]\n",
            "Downloading weather_test.csv.zip to /content\n",
            "  0% 0.00/2.53M [00:00<?, ?B/s]\n",
            "100% 2.53M/2.53M [00:00<00:00, 167MB/s]\n"
          ],
          "name": "stdout"
        }
      ]
    },
    {
      "cell_type": "code",
      "metadata": {
        "id": "UK2JfnfVjhZ2",
        "colab_type": "code",
        "outputId": "075bdb9d-429a-4422-cc26-f6d0fd60a930",
        "colab": {
          "base_uri": "https://localhost:8080/",
          "height": 187
        }
      },
      "source": [
        "!unzip weather_train.csv.zip\n",
        "!unzip weather_test.csv.zip\n",
        "!unzip test.csv.zip\n",
        "!unzip train.csv.zip\n",
        "!unzip sample_submission.csv.zip"
      ],
      "execution_count": 0,
      "outputs": [
        {
          "output_type": "stream",
          "text": [
            "Archive:  weather_train.csv.zip\n",
            "  inflating: weather_train.csv       \n",
            "Archive:  weather_test.csv.zip\n",
            "  inflating: weather_test.csv        \n",
            "Archive:  test.csv.zip\n",
            "  inflating: test.csv                \n",
            "Archive:  train.csv.zip\n",
            "  inflating: train.csv               \n",
            "Archive:  sample_submission.csv.zip\n",
            "  inflating: sample_submission.csv   \n"
          ],
          "name": "stdout"
        }
      ]
    },
    {
      "cell_type": "code",
      "metadata": {
        "id": "-9GWuhcTgoE1",
        "colab_type": "code",
        "colab": {}
      },
      "source": [
        "import pandas as pd\n",
        "import numpy as np\n",
        "import matplotlib.pyplot as plt\n",
        "import seaborn as sns\n",
        "import os"
      ],
      "execution_count": 0,
      "outputs": []
    },
    {
      "cell_type": "code",
      "metadata": {
        "id": "Qbczo7BtikYq",
        "colab_type": "code",
        "colab": {}
      },
      "source": [
        "def read_and_interpret_data(filename):\n",
        "    path = \"/content\"\n",
        "    df = pd.read_csv('{0}/{1}'.format(path,filename))\n",
        "    print(\"~~~~~~Shape of the data~~~~~~ : \",df.shape)\n",
        "    print(\"~~~~~~Columns and their datatype~~~~~~ : \")\n",
        "    print(df.info())\n",
        "    print(\"~~~~~~Quick Look at the data~~~~~~ : \")\n",
        "    print(df.head())\n",
        "    print(\"~~~~~~Description of the data~~~~~~ : \")\n",
        "    print(df.describe())\n",
        "    print(\"~~~~~~NAs present in the data~~~~~~ : \")\n",
        "    print(df.isna().sum())\n",
        "    if 'timestamp' in df.columns: \n",
        "        df['timestamp'] = pd.to_datetime(df['timestamp'],format = \"%Y-%m-%d %H:%M:%S\")\n",
        "        print(\"~~~~~~Year of the data~~~~~~ :\")\n",
        "        print(df.timestamp.dt.year.unique())\n",
        "    return df"
      ],
      "execution_count": 0,
      "outputs": []
    },
    {
      "cell_type": "code",
      "metadata": {
        "id": "hlOqPIKU02E7",
        "colab_type": "code",
        "colab": {}
      },
      "source": [
        "def reduce_mem_usage(df, verbose=True):\n",
        "    numerics = ['int16', 'int32', 'int64', 'float16', 'float32', 'float64']\n",
        "    start_mem = df.memory_usage().sum() / 1024**2    \n",
        "    for col in df.columns:\n",
        "        col_type = df[col].dtypes\n",
        "        if col_type in numerics:\n",
        "            c_min = df[col].min()\n",
        "            c_max = df[col].max()\n",
        "            if str(col_type)[:3] == 'int':\n",
        "                if c_min > np.iinfo(np.int8).min and c_max < np.iinfo(np.int8).max:\n",
        "                    df[col] = df[col].astype(np.int8)\n",
        "                elif c_min > np.iinfo(np.int16).min and c_max < np.iinfo(np.int16).max:\n",
        "                    df[col] = df[col].astype(np.int16)\n",
        "                elif c_min > np.iinfo(np.int32).min and c_max < np.iinfo(np.int32).max:\n",
        "                    df[col] = df[col].astype(np.int32)\n",
        "                elif c_min > np.iinfo(np.int64).min and c_max < np.iinfo(np.int64).max:\n",
        "                    df[col] = df[col].astype(np.int64)  \n",
        "            else:\n",
        "                if c_min > np.finfo(np.float16).min and c_max < np.finfo(np.float16).max:\n",
        "                    df[col] = df[col].astype(np.float16)\n",
        "                elif c_min > np.finfo(np.float32).min and c_max < np.finfo(np.float32).max:\n",
        "                    df[col] = df[col].astype(np.float32)\n",
        "                else:\n",
        "                    df[col] = df[col].astype(np.float64)    \n",
        "    end_mem = df.memory_usage().sum() / 1024**2\n",
        "    if verbose: print('Mem. usage decreased to {:5.2f} Mb ({:.1f}% reduction)'.format(end_mem, 100 * (start_mem - end_mem) / start_mem))\n",
        "    return df"
      ],
      "execution_count": 0,
      "outputs": []
    },
    {
      "cell_type": "markdown",
      "metadata": {
        "id": "O3nLsvTtkvNI",
        "colab_type": "text"
      },
      "source": [
        "# *Train Data *"
      ]
    },
    {
      "cell_type": "code",
      "metadata": {
        "id": "x54ST1tNi2AE",
        "colab_type": "code",
        "outputId": "b79c352c-f8cd-48de-ee81-ec08fa89f90c",
        "colab": {
          "base_uri": "https://localhost:8080/",
          "height": 646
        }
      },
      "source": [
        "df_train = read_and_interpret_data('train.csv')"
      ],
      "execution_count": 0,
      "outputs": [
        {
          "output_type": "stream",
          "text": [
            "~~~~~~Shape of the data~~~~~~ :  (20216100, 4)\n",
            "~~~~~~Columns and their datatype~~~~~~ : \n",
            "<class 'pandas.core.frame.DataFrame'>\n",
            "RangeIndex: 20216100 entries, 0 to 20216099\n",
            "Data columns (total 4 columns):\n",
            "building_id      int64\n",
            "meter            int64\n",
            "timestamp        object\n",
            "meter_reading    float64\n",
            "dtypes: float64(1), int64(2), object(1)\n",
            "memory usage: 616.9+ MB\n",
            "None\n",
            "~~~~~~Quick Look at the data~~~~~~ : \n",
            "   building_id  meter            timestamp  meter_reading\n",
            "0            0      0  2016-01-01 00:00:00            0.0\n",
            "1            1      0  2016-01-01 00:00:00            0.0\n",
            "2            2      0  2016-01-01 00:00:00            0.0\n",
            "3            3      0  2016-01-01 00:00:00            0.0\n",
            "4            4      0  2016-01-01 00:00:00            0.0\n",
            "~~~~~~Description of the data~~~~~~ : \n",
            "        building_id         meter  meter_reading\n",
            "count  2.021610e+07  2.021610e+07   2.021610e+07\n",
            "mean   7.992780e+02  6.624412e-01   2.117121e+03\n",
            "std    4.269133e+02  9.309921e-01   1.532356e+05\n",
            "min    0.000000e+00  0.000000e+00   0.000000e+00\n",
            "25%    3.930000e+02  0.000000e+00   1.830000e+01\n",
            "50%    8.950000e+02  0.000000e+00   7.877500e+01\n",
            "75%    1.179000e+03  1.000000e+00   2.679840e+02\n",
            "max    1.448000e+03  3.000000e+00   2.190470e+07\n",
            "~~~~~~NAs present in the data~~~~~~ : \n",
            "building_id      0\n",
            "meter            0\n",
            "timestamp        0\n",
            "meter_reading    0\n",
            "dtype: int64\n",
            "~~~~~~Year of the data~~~~~~ :\n",
            "[2016]\n"
          ],
          "name": "stdout"
        }
      ]
    },
    {
      "cell_type": "code",
      "metadata": {
        "id": "bgwwJuGpi7rc",
        "colab_type": "code",
        "colab": {}
      },
      "source": [
        "df_train['month'] = df_train['timestamp'].dt.month\n",
        "df_train['dayofweek'] = df_train['timestamp'].dt.dayofweek\n",
        "df_train['hourofday'] = df_train['timestamp'].dt.hour"
      ],
      "execution_count": 0,
      "outputs": []
    },
    {
      "cell_type": "code",
      "metadata": {
        "id": "umjGFoEFkmRi",
        "colab_type": "code",
        "outputId": "c8f9c925-0570-4924-8bc6-a268c3166d68",
        "colab": {
          "base_uri": "https://localhost:8080/",
          "height": 34
        }
      },
      "source": [
        "df_train.shape"
      ],
      "execution_count": 0,
      "outputs": [
        {
          "output_type": "execute_result",
          "data": {
            "text/plain": [
              "(20216100, 7)"
            ]
          },
          "metadata": {
            "tags": []
          },
          "execution_count": 31
        }
      ]
    },
    {
      "cell_type": "code",
      "metadata": {
        "id": "xcPuU2rQkpOj",
        "colab_type": "code",
        "outputId": "19bea132-fd25-4ae0-fb75-5023b9c637db",
        "colab": {
          "base_uri": "https://localhost:8080/",
          "height": 204
        }
      },
      "source": [
        "df_train.tail()"
      ],
      "execution_count": 0,
      "outputs": [
        {
          "output_type": "execute_result",
          "data": {
            "text/html": [
              "<div>\n",
              "<style scoped>\n",
              "    .dataframe tbody tr th:only-of-type {\n",
              "        vertical-align: middle;\n",
              "    }\n",
              "\n",
              "    .dataframe tbody tr th {\n",
              "        vertical-align: top;\n",
              "    }\n",
              "\n",
              "    .dataframe thead th {\n",
              "        text-align: right;\n",
              "    }\n",
              "</style>\n",
              "<table border=\"1\" class=\"dataframe\">\n",
              "  <thead>\n",
              "    <tr style=\"text-align: right;\">\n",
              "      <th></th>\n",
              "      <th>building_id</th>\n",
              "      <th>meter</th>\n",
              "      <th>timestamp</th>\n",
              "      <th>meter_reading</th>\n",
              "      <th>month</th>\n",
              "      <th>dayofweek</th>\n",
              "      <th>hourofday</th>\n",
              "    </tr>\n",
              "  </thead>\n",
              "  <tbody>\n",
              "    <tr>\n",
              "      <th>20216095</th>\n",
              "      <td>1444</td>\n",
              "      <td>0</td>\n",
              "      <td>2016-12-31 23:00:00</td>\n",
              "      <td>8.750</td>\n",
              "      <td>12</td>\n",
              "      <td>5</td>\n",
              "      <td>23</td>\n",
              "    </tr>\n",
              "    <tr>\n",
              "      <th>20216096</th>\n",
              "      <td>1445</td>\n",
              "      <td>0</td>\n",
              "      <td>2016-12-31 23:00:00</td>\n",
              "      <td>4.825</td>\n",
              "      <td>12</td>\n",
              "      <td>5</td>\n",
              "      <td>23</td>\n",
              "    </tr>\n",
              "    <tr>\n",
              "      <th>20216097</th>\n",
              "      <td>1446</td>\n",
              "      <td>0</td>\n",
              "      <td>2016-12-31 23:00:00</td>\n",
              "      <td>0.000</td>\n",
              "      <td>12</td>\n",
              "      <td>5</td>\n",
              "      <td>23</td>\n",
              "    </tr>\n",
              "    <tr>\n",
              "      <th>20216098</th>\n",
              "      <td>1447</td>\n",
              "      <td>0</td>\n",
              "      <td>2016-12-31 23:00:00</td>\n",
              "      <td>159.575</td>\n",
              "      <td>12</td>\n",
              "      <td>5</td>\n",
              "      <td>23</td>\n",
              "    </tr>\n",
              "    <tr>\n",
              "      <th>20216099</th>\n",
              "      <td>1448</td>\n",
              "      <td>0</td>\n",
              "      <td>2016-12-31 23:00:00</td>\n",
              "      <td>2.850</td>\n",
              "      <td>12</td>\n",
              "      <td>5</td>\n",
              "      <td>23</td>\n",
              "    </tr>\n",
              "  </tbody>\n",
              "</table>\n",
              "</div>"
            ],
            "text/plain": [
              "          building_id  meter           timestamp  ...  month  dayofweek  hourofday\n",
              "20216095         1444      0 2016-12-31 23:00:00  ...     12          5         23\n",
              "20216096         1445      0 2016-12-31 23:00:00  ...     12          5         23\n",
              "20216097         1446      0 2016-12-31 23:00:00  ...     12          5         23\n",
              "20216098         1447      0 2016-12-31 23:00:00  ...     12          5         23\n",
              "20216099         1448      0 2016-12-31 23:00:00  ...     12          5         23\n",
              "\n",
              "[5 rows x 7 columns]"
            ]
          },
          "metadata": {
            "tags": []
          },
          "execution_count": 32
        }
      ]
    },
    {
      "cell_type": "code",
      "metadata": {
        "id": "DJUzljOU1E0I",
        "colab_type": "code",
        "outputId": "4d205913-6915-48fe-a562-821385ac9b00",
        "colab": {
          "base_uri": "https://localhost:8080/",
          "height": 34
        }
      },
      "source": [
        "df_train = reduce_mem_usage(df_train)"
      ],
      "execution_count": 0,
      "outputs": [
        {
          "output_type": "stream",
          "text": [
            "Mem. usage decreased to 347.03 Mb (67.9% reduction)\n"
          ],
          "name": "stdout"
        }
      ]
    },
    {
      "cell_type": "markdown",
      "metadata": {
        "id": "ng8bT1Ujng3y",
        "colab_type": "text"
      },
      "source": [
        "### *building_metadata*"
      ]
    },
    {
      "cell_type": "code",
      "metadata": {
        "id": "hKb36blEnPmX",
        "colab_type": "code",
        "outputId": "a53ed6ea-7867-4e0a-d3fb-e478a7dcaebf",
        "colab": {
          "base_uri": "https://localhost:8080/",
          "height": 680
        }
      },
      "source": [
        "df_building_metadata = read_and_interpret_data('building_metadata.csv')"
      ],
      "execution_count": 0,
      "outputs": [
        {
          "output_type": "stream",
          "text": [
            "~~~~~~Shape of the data~~~~~~ :  (1449, 6)\n",
            "~~~~~~Columns and their datatype~~~~~~ : \n",
            "<class 'pandas.core.frame.DataFrame'>\n",
            "RangeIndex: 1449 entries, 0 to 1448\n",
            "Data columns (total 6 columns):\n",
            "site_id        1449 non-null int64\n",
            "building_id    1449 non-null int64\n",
            "primary_use    1449 non-null object\n",
            "square_feet    1449 non-null int64\n",
            "year_built     675 non-null float64\n",
            "floor_count    355 non-null float64\n",
            "dtypes: float64(2), int64(3), object(1)\n",
            "memory usage: 68.0+ KB\n",
            "None\n",
            "~~~~~~Quick Look at the data~~~~~~ : \n",
            "   site_id  building_id primary_use  square_feet  year_built  floor_count\n",
            "0        0            0   Education         7432      2008.0          NaN\n",
            "1        0            1   Education         2720      2004.0          NaN\n",
            "2        0            2   Education         5376      1991.0          NaN\n",
            "3        0            3   Education        23685      2002.0          NaN\n",
            "4        0            4   Education       116607      1975.0          NaN\n",
            "~~~~~~Description of the data~~~~~~ : \n",
            "           site_id  building_id    square_feet   year_built  floor_count\n",
            "count  1449.000000  1449.000000    1449.000000   675.000000   355.000000\n",
            "mean      6.952381   724.000000   92111.776398  1967.957037     3.740845\n",
            "std       5.003432   418.434583  110769.950997    31.054030     3.333683\n",
            "min       0.000000     0.000000     283.000000  1900.000000     1.000000\n",
            "25%       3.000000   362.000000   23012.000000  1949.000000     1.000000\n",
            "50%       5.000000   724.000000   57673.000000  1970.000000     3.000000\n",
            "75%      13.000000  1086.000000  115676.000000  1995.000000     5.000000\n",
            "max      15.000000  1448.000000  875000.000000  2017.000000    26.000000\n",
            "~~~~~~NAs present in the data~~~~~~ : \n",
            "site_id           0\n",
            "building_id       0\n",
            "primary_use       0\n",
            "square_feet       0\n",
            "year_built      774\n",
            "floor_count    1094\n",
            "dtype: int64\n"
          ],
          "name": "stdout"
        }
      ]
    },
    {
      "cell_type": "code",
      "metadata": {
        "id": "DNfB-9TqnrQW",
        "colab_type": "code",
        "colab": {}
      },
      "source": [
        "def plot_hist(df,var_name):\n",
        "    plt.figure(figsize=(14,6))\n",
        "    plt.hist(df[var_name],bins = 50)\n",
        "    plt.title(f\"Histogram - {var_name}\")\n",
        "    plt.show()"
      ],
      "execution_count": 0,
      "outputs": []
    },
    {
      "cell_type": "code",
      "metadata": {
        "id": "USKgd5qeo07k",
        "colab_type": "code",
        "outputId": "9ae1f6f1-0c1b-4911-9ae1-afb11350944d",
        "colab": {
          "base_uri": "https://localhost:8080/",
          "height": 458
        }
      },
      "source": [
        "plot_hist(df_building_metadata,'year_built')"
      ],
      "execution_count": 0,
      "outputs": [
        {
          "output_type": "stream",
          "text": [
            "/usr/local/lib/python3.6/dist-packages/numpy/lib/histograms.py:839: RuntimeWarning: invalid value encountered in greater_equal\n",
            "  keep = (tmp_a >= first_edge)\n",
            "/usr/local/lib/python3.6/dist-packages/numpy/lib/histograms.py:840: RuntimeWarning: invalid value encountered in less_equal\n",
            "  keep &= (tmp_a <= last_edge)\n"
          ],
          "name": "stderr"
        },
        {
          "output_type": "display_data",
          "data": {
            "image/png": "[encoded data removed]",
            "text/plain": [
              "<Figure size 1008x432 with 1 Axes>"
            ]
          },
          "metadata": {
            "tags": []
          }
        }
      ]
    },
    {
      "cell_type": "code",
      "metadata": {
        "id": "_gRzRrero79r",
        "colab_type": "code",
        "outputId": "6670b82a-976d-42ae-d7a0-8227921a2dc5",
        "colab": {
          "base_uri": "https://localhost:8080/",
          "height": 458
        }
      },
      "source": [
        "plot_hist(df_building_metadata,'floor_count')"
      ],
      "execution_count": 0,
      "outputs": [
        {
          "output_type": "stream",
          "text": [
            "/usr/local/lib/python3.6/dist-packages/numpy/lib/histograms.py:839: RuntimeWarning: invalid value encountered in greater_equal\n",
            "  keep = (tmp_a >= first_edge)\n",
            "/usr/local/lib/python3.6/dist-packages/numpy/lib/histograms.py:840: RuntimeWarning: invalid value encountered in less_equal\n",
            "  keep &= (tmp_a <= last_edge)\n"
          ],
          "name": "stderr"
        },
        {
          "output_type": "display_data",
          "data": {
            "image/png": "[encoded data removed]",
            "text/plain": [
              "<Figure size 1008x432 with 1 Axes>"
            ]
          },
          "metadata": {
            "tags": []
          }
        }
      ]
    },
    {
      "cell_type": "code",
      "metadata": {
        "id": "Iu_BzBtEpPhv",
        "colab_type": "code",
        "outputId": "ec721b38-ec0e-4ea8-b273-10af0ffa6225",
        "colab": {
          "base_uri": "https://localhost:8080/",
          "height": 34
        }
      },
      "source": [
        "(df_building_metadata.year_built.isna().sum()/df_building_metadata.shape[0])*100"
      ],
      "execution_count": 0,
      "outputs": [
        {
          "output_type": "execute_result",
          "data": {
            "text/plain": [
              "53.41614906832298"
            ]
          },
          "metadata": {
            "tags": []
          },
          "execution_count": 38
        }
      ]
    },
    {
      "cell_type": "code",
      "metadata": {
        "id": "98Q51Rlhph6H",
        "colab_type": "code",
        "outputId": "0d049907-1011-4b4b-9c28-38fa9fd666c2",
        "colab": {
          "base_uri": "https://localhost:8080/",
          "height": 221
        }
      },
      "source": [
        "df_building_metadata['year_built'].value_counts()"
      ],
      "execution_count": 0,
      "outputs": [
        {
          "output_type": "execute_result",
          "data": {
            "text/plain": [
              "1976.0    55\n",
              "1966.0    23\n",
              "1968.0    18\n",
              "1919.0    17\n",
              "1964.0    15\n",
              "          ..\n",
              "1934.0     1\n",
              "1936.0     1\n",
              "1926.0     1\n",
              "2017.0     1\n",
              "1947.0     1\n",
              "Name: year_built, Length: 116, dtype: int64"
            ]
          },
          "metadata": {
            "tags": []
          },
          "execution_count": 39
        }
      ]
    },
    {
      "cell_type": "code",
      "metadata": {
        "id": "h4_LfWF_3Vu8",
        "colab_type": "code",
        "colab": {}
      },
      "source": [
        "# Making a list of mode years\n",
        "mode_yr1,mode_yr2 = list(range(1960,1975)),  list(range(2000,2010))\n",
        "mode_years = mode_yr1 + mode_yr2"
      ],
      "execution_count": 0,
      "outputs": []
    },
    {
      "cell_type": "code",
      "metadata": {
        "id": "S8zaQxEwp1xT",
        "colab_type": "code",
        "colab": {}
      },
      "source": [
        "# Replacing NAs by chooosing randomly from the mode years\n",
        "import random\n",
        "random.seed(123)\n",
        "\n",
        "nans = df_building_metadata['year_built'].isna()\n",
        "length = sum(nans)\n",
        "replacement = random.choices(mode_years, k=length)\n",
        "df_building_metadata.loc[nans,'year_built'] = replacement"
      ],
      "execution_count": 0,
      "outputs": []
    },
    {
      "cell_type": "code",
      "metadata": {
        "id": "Tye9eIm9p8Cr",
        "colab_type": "code",
        "outputId": "d26e10b4-dec5-4535-e4ec-c09be5d8642b",
        "colab": {
          "base_uri": "https://localhost:8080/",
          "height": 34
        }
      },
      "source": [
        "df_building_metadata.year_built.isna().sum()"
      ],
      "execution_count": 0,
      "outputs": [
        {
          "output_type": "execute_result",
          "data": {
            "text/plain": [
              "0"
            ]
          },
          "metadata": {
            "tags": []
          },
          "execution_count": 44
        }
      ]
    },
    {
      "cell_type": "code",
      "metadata": {
        "id": "F3FEkn3J3hN3",
        "colab_type": "code",
        "outputId": "5bf5c96f-d446-4ff9-bc77-e7f788b9a03d",
        "colab": {
          "base_uri": "https://localhost:8080/",
          "height": 221
        }
      },
      "source": [
        "df_building_metadata['year_built'].value_counts()"
      ],
      "execution_count": 0,
      "outputs": [
        {
          "output_type": "execute_result",
          "data": {
            "text/plain": [
              "1968.0    61\n",
              "1976.0    55\n",
              "1964.0    53\n",
              "1970.0    51\n",
              "2001.0    51\n",
              "          ..\n",
              "1944.0     1\n",
              "1934.0     1\n",
              "1926.0     1\n",
              "2017.0     1\n",
              "1947.0     1\n",
              "Name: year_built, Length: 116, dtype: int64"
            ]
          },
          "metadata": {
            "tags": []
          },
          "execution_count": 45
        }
      ]
    },
    {
      "cell_type": "code",
      "metadata": {
        "id": "P3ppl2Dbp_LM",
        "colab_type": "code",
        "outputId": "703d6287-cae7-4b16-edb8-255046843bcb",
        "colab": {
          "base_uri": "https://localhost:8080/",
          "height": 34
        }
      },
      "source": [
        "(df_building_metadata.floor_count.isna().sum()/df_building_metadata.shape[0])*100"
      ],
      "execution_count": 0,
      "outputs": [
        {
          "output_type": "execute_result",
          "data": {
            "text/plain": [
              "75.50034506556246"
            ]
          },
          "metadata": {
            "tags": []
          },
          "execution_count": 46
        }
      ]
    },
    {
      "cell_type": "code",
      "metadata": {
        "id": "s2yWNJR7qIWH",
        "colab_type": "code",
        "outputId": "85fd72b6-ca60-4abc-c30d-c798b140431c",
        "colab": {
          "base_uri": "https://localhost:8080/",
          "height": 340
        }
      },
      "source": [
        "df_building_metadata['floor_count'].value_counts()"
      ],
      "execution_count": 0,
      "outputs": [
        {
          "output_type": "execute_result",
          "data": {
            "text/plain": [
              "1.0     109\n",
              "2.0      67\n",
              "4.0      37\n",
              "3.0      33\n",
              "5.0      25\n",
              "6.0      25\n",
              "8.0      19\n",
              "7.0      14\n",
              "9.0       8\n",
              "11.0      5\n",
              "10.0      4\n",
              "12.0      2\n",
              "13.0      2\n",
              "19.0      1\n",
              "26.0      1\n",
              "14.0      1\n",
              "21.0      1\n",
              "16.0      1\n",
              "Name: floor_count, dtype: int64"
            ]
          },
          "metadata": {
            "tags": []
          },
          "execution_count": 47
        }
      ]
    },
    {
      "cell_type": "code",
      "metadata": {
        "id": "gvIMTNFx3yT0",
        "colab_type": "code",
        "outputId": "e44648e2-894a-4128-e760-63b702c4cef9",
        "colab": {
          "base_uri": "https://localhost:8080/",
          "height": 34
        }
      },
      "source": [
        "import random\n",
        "floor= df_building_metadata['floor_count'].unique()\n",
        "nans = df_building_metadata['floor_count'].isna()\n",
        "length = sum(nans)\n",
        "print(length)\n",
        "replacement = random.choices(floor, k=length)\n",
        "df_building_metadata.loc[nans,'floor_count'] = replacement"
      ],
      "execution_count": 0,
      "outputs": [
        {
          "output_type": "stream",
          "text": [
            "0\n"
          ],
          "name": "stdout"
        }
      ]
    },
    {
      "cell_type": "code",
      "metadata": {
        "id": "LCb2GmaY4kRe",
        "colab_type": "code",
        "outputId": "194a3f5c-761e-4c89-ec2b-9702f034c0ef",
        "colab": {
          "base_uri": "https://localhost:8080/",
          "height": 357
        }
      },
      "source": [
        "df_building_metadata['floor_count'].value_counts()"
      ],
      "execution_count": 0,
      "outputs": [
        {
          "output_type": "execute_result",
          "data": {
            "text/plain": [
              "1.0     184\n",
              "2.0     133\n",
              "4.0     119\n",
              "3.0     111\n",
              "6.0     108\n",
              "5.0      97\n",
              "8.0      92\n",
              "10.0     85\n",
              "9.0      84\n",
              "7.0      78\n",
              "14.0     77\n",
              "12.0     73\n",
              "11.0     72\n",
              "15.0     71\n",
              "13.0     61\n",
              "26.0      1\n",
              "16.0      1\n",
              "21.0      1\n",
              "19.0      1\n",
              "Name: floor_count, dtype: int64"
            ]
          },
          "metadata": {
            "tags": []
          },
          "execution_count": 57
        }
      ]
    },
    {
      "cell_type": "code",
      "metadata": {
        "id": "yqqkrDrsqFq4",
        "colab_type": "code",
        "colab": {}
      },
      "source": [
        "#df_building_metadata['floor_count'].fillna(1, inplace = True)"
      ],
      "execution_count": 0,
      "outputs": []
    },
    {
      "cell_type": "code",
      "metadata": {
        "id": "YJrPin9QqTCK",
        "colab_type": "code",
        "colab": {}
      },
      "source": [
        "from sklearn.preprocessing import LabelEncoder\n",
        "le = LabelEncoder()\n",
        "df_building_metadata[\"primary_use\"] = le.fit_transform(df_building_metadata[\"primary_use\"])"
      ],
      "execution_count": 0,
      "outputs": []
    },
    {
      "cell_type": "code",
      "metadata": {
        "id": "mk59zkJIqd2P",
        "colab_type": "code",
        "outputId": "a9f67ab2-d0b2-4caa-cc48-920eb46ea9c7",
        "colab": {
          "base_uri": "https://localhost:8080/",
          "height": 119
        }
      },
      "source": [
        "df_building_metadata.primary_use.tail()"
      ],
      "execution_count": 0,
      "outputs": [
        {
          "output_type": "execute_result",
          "data": {
            "text/plain": [
              "1444    1\n",
              "1445    0\n",
              "1446    1\n",
              "1447    4\n",
              "1448    6\n",
              "Name: primary_use, dtype: int64"
            ]
          },
          "metadata": {
            "tags": []
          },
          "execution_count": 59
        }
      ]
    },
    {
      "cell_type": "code",
      "metadata": {
        "id": "NOKnkfDD1Q8c",
        "colab_type": "code",
        "outputId": "8e80e1e1-5196-4781-9ced-f284e5a74234",
        "colab": {
          "base_uri": "https://localhost:8080/",
          "height": 34
        }
      },
      "source": [
        "df_building_metadata = reduce_mem_usage(df_building_metadata)"
      ],
      "execution_count": 0,
      "outputs": [
        {
          "output_type": "stream",
          "text": [
            "Mem. usage decreased to  0.02 Mb (74.9% reduction)\n"
          ],
          "name": "stdout"
        }
      ]
    },
    {
      "cell_type": "markdown",
      "metadata": {
        "id": "-cSpnbJAtRXw",
        "colab_type": "text"
      },
      "source": [
        "# weather_train"
      ]
    },
    {
      "cell_type": "code",
      "metadata": {
        "id": "YS104wHdqgwa",
        "colab_type": "code",
        "outputId": "c7c8555b-33f8-4487-f48b-9b166a77a8ec",
        "colab": {
          "base_uri": "https://localhost:8080/",
          "height": 884
        }
      },
      "source": [
        "df_weather_train = read_and_interpret_data('weather_train.csv')"
      ],
      "execution_count": 0,
      "outputs": [
        {
          "output_type": "stream",
          "text": [
            "~~~~~~Shape of the data~~~~~~ :  (139773, 9)\n",
            "~~~~~~Columns and their datatype~~~~~~ : \n",
            "<class 'pandas.core.frame.DataFrame'>\n",
            "RangeIndex: 139773 entries, 0 to 139772\n",
            "Data columns (total 9 columns):\n",
            "site_id               139773 non-null int64\n",
            "timestamp             139773 non-null object\n",
            "air_temperature       139718 non-null float64\n",
            "cloud_coverage        70600 non-null float64\n",
            "dew_temperature       139660 non-null float64\n",
            "precip_depth_1_hr     89484 non-null float64\n",
            "sea_level_pressure    129155 non-null float64\n",
            "wind_direction        133505 non-null float64\n",
            "wind_speed            139469 non-null float64\n",
            "dtypes: float64(7), int64(1), object(1)\n",
            "memory usage: 9.6+ MB\n",
            "None\n",
            "~~~~~~Quick Look at the data~~~~~~ : \n",
            "   site_id            timestamp  ...  wind_direction  wind_speed\n",
            "0        0  2016-01-01 00:00:00  ...             0.0         0.0\n",
            "1        0  2016-01-01 01:00:00  ...            70.0         1.5\n",
            "2        0  2016-01-01 02:00:00  ...             0.0         0.0\n",
            "3        0  2016-01-01 03:00:00  ...             0.0         0.0\n",
            "4        0  2016-01-01 04:00:00  ...           250.0         2.6\n",
            "\n",
            "[5 rows x 9 columns]\n",
            "~~~~~~Description of the data~~~~~~ : \n",
            "             site_id  air_temperature  ...  wind_direction     wind_speed\n",
            "count  139773.000000    139718.000000  ...   133505.000000  139469.000000\n",
            "mean        7.478977        14.418106  ...      180.526632       3.560527\n",
            "std         4.604744        10.626595  ...      111.523629       2.335874\n",
            "min         0.000000       -28.900000  ...        0.000000       0.000000\n",
            "25%         3.000000         7.200000  ...       80.000000       2.100000\n",
            "50%         7.000000        15.000000  ...      190.000000       3.100000\n",
            "75%        11.000000        22.200000  ...      280.000000       5.000000\n",
            "max        15.000000        47.200000  ...      360.000000      19.000000\n",
            "\n",
            "[8 rows x 8 columns]\n",
            "~~~~~~NAs present in the data~~~~~~ : \n",
            "site_id                   0\n",
            "timestamp                 0\n",
            "air_temperature          55\n",
            "cloud_coverage        69173\n",
            "dew_temperature         113\n",
            "precip_depth_1_hr     50289\n",
            "sea_level_pressure    10618\n",
            "wind_direction         6268\n",
            "wind_speed              304\n",
            "dtype: int64\n",
            "~~~~~~Year of the data~~~~~~ :\n",
            "[2016]\n"
          ],
          "name": "stdout"
        }
      ]
    },
    {
      "cell_type": "code",
      "metadata": {
        "id": "FYGFwUKYtV5o",
        "colab_type": "code",
        "outputId": "03329c86-5069-4852-8018-264c39feac2a",
        "colab": {
          "base_uri": "https://localhost:8080/",
          "height": 1000
        }
      },
      "source": [
        "for var in ['dew_temperature','air_temperature','wind_speed']:\n",
        "    plot_hist(df_weather_train,var)"
      ],
      "execution_count": 0,
      "outputs": [
        {
          "output_type": "stream",
          "text": [
            "/usr/local/lib/python3.6/dist-packages/numpy/lib/histograms.py:839: RuntimeWarning: invalid value encountered in greater_equal\n",
            "  keep = (tmp_a >= first_edge)\n",
            "/usr/local/lib/python3.6/dist-packages/numpy/lib/histograms.py:840: RuntimeWarning: invalid value encountered in less_equal\n",
            "  keep &= (tmp_a <= last_edge)\n"
          ],
          "name": "stderr"
        },
        {
          "output_type": "display_data",
          "data": {
            "image/png": "[encoded data removed]",
            "text/plain": [
              "<Figure size 1008x432 with 1 Axes>"
            ]
          },
          "metadata": {
            "tags": []
          }
        },
        {
          "output_type": "display_data",
          "data": {
            "image/png": "[encoded data removed]",
            "text/plain": [
              "<Figure size 1008x432 with 1 Axes>"
            ]
          },
          "metadata": {
            "tags": []
          }
        },
        {
          "output_type": "display_data",
          "data": {
            "image/png": "[encoded data removed]",
            "text/plain": [
              "<Figure size 1008x432 with 1 Axes>"
            ]
          },
          "metadata": {
            "tags": []
          }
        }
      ]
    },
    {
      "cell_type": "code",
      "metadata": {
        "id": "-ohPdmKctyjy",
        "colab_type": "code",
        "colab": {}
      },
      "source": [
        "import datetime\n",
        "def fill_weather_dataset(weather_df):\n",
        "    \n",
        "    # Find Missing Dates\n",
        "    time_format = \"%Y-%m-%d %H:%M:%S\"\n",
        "    start_date = weather_df['timestamp'].min().to_pydatetime()\n",
        "    end_date = weather_df['timestamp'].max().to_pydatetime()\n",
        "    total_hours = int(((end_date - start_date).total_seconds() + 3600) / 3600)\n",
        "    hours_list = np.array([(end_date - datetime.timedelta(hours=x)).strftime(time_format) for x in range(total_hours)])\n",
        "\n",
        "    missing_hours = []\n",
        "    for site_id in range(16):\n",
        "        \n",
        "        site_tot_hrs = df_weather_train[df_weather_train['site_id'] == 1]['timestamp']\n",
        "        site_hours = np.array([x.strftime(time_format) for x in site_tot_hrs])\n",
        "#         site_hours = np.array(weather_df[weather_df['site_id'] == site_id]['timestamp'])\n",
        "        new_rows = pd.DataFrame(np.setdiff1d(hours_list,site_hours),columns=['timestamp'])\n",
        "        new_rows['site_id'] = site_id\n",
        "        weather_df = pd.concat([weather_df,new_rows])\n",
        "\n",
        "        weather_df = weather_df.reset_index(drop=True)           \n",
        "\n",
        "    # Add new Features\n",
        "    weather_df[\"datetime\"] = pd.to_datetime(weather_df[\"timestamp\"])\n",
        "    weather_df[\"day\"] = weather_df[\"datetime\"].dt.day\n",
        "    weather_df[\"week\"] = weather_df[\"datetime\"].dt.week\n",
        "    weather_df[\"month\"] = weather_df[\"datetime\"].dt.month\n",
        "    \n",
        "    # Reset Index for Fast Update\n",
        "    weather_df = weather_df.set_index(['site_id','day','month'])\n",
        "\n",
        "    # AIR TEMPERATURE\n",
        "    air_temperature_filler = pd.DataFrame(weather_df.groupby(['site_id','day','month'])['air_temperature'].mean(),columns=[\"air_temperature\"])\n",
        "    weather_df.update(air_temperature_filler,overwrite=False)\n",
        "\n",
        "    # CLOUD COVERAGE\n",
        "    # Step 1\n",
        "    cloud_coverage_filler = weather_df.groupby(['site_id','day','month'])['cloud_coverage'].mean()\n",
        "    # Step 2\n",
        "    cloud_coverage_filler = pd.DataFrame(cloud_coverage_filler.fillna(method='ffill'),columns=[\"cloud_coverage\"])\n",
        "    weather_df.update(cloud_coverage_filler,overwrite=False)\n",
        "\n",
        "    # DEW TEMPERATURE\n",
        "    dew_temperature_filler = pd.DataFrame(weather_df.groupby(['site_id','day','month'])['dew_temperature'].mean(),columns=[\"dew_temperature\"])\n",
        "    weather_df.update(dew_temperature_filler,overwrite=False)\n",
        "\n",
        "    # SEA LEVEL PRESSURE\n",
        "    # Step 1\n",
        "    sea_level_filler = weather_df.groupby(['site_id','day','month'])['sea_level_pressure'].mean()\n",
        "    # Step 2\n",
        "    sea_level_filler = pd.DataFrame(sea_level_filler.fillna(method='ffill'),columns=['sea_level_pressure'])\n",
        "\n",
        "    weather_df.update(sea_level_filler,overwrite=False)\n",
        "\n",
        "    # WIND DIRECTION\n",
        "    wind_direction_filler =  pd.DataFrame(weather_df.groupby(['site_id','day','month'])['wind_direction'].mean(),columns=['wind_direction'])\n",
        "    weather_df.update(wind_direction_filler,overwrite=False)\n",
        "\n",
        "    # WIND SPEED\n",
        "    wind_speed_filler =  pd.DataFrame(weather_df.groupby(['site_id','day','month'])['wind_speed'].mean(),columns=['wind_speed'])\n",
        "    weather_df.update(wind_speed_filler,overwrite=False)\n",
        "\n",
        "    # PRECIPITATION DEPTH\n",
        "    # Step 1\n",
        "    precip_depth_filler = weather_df.groupby(['site_id','day','month'])['precip_depth_1_hr'].mean()\n",
        "    # Step 2\n",
        "    precip_depth_filler = pd.DataFrame(precip_depth_filler.fillna(method='ffill'),columns=['precip_depth_1_hr'])\n",
        "\n",
        "    weather_df.update(precip_depth_filler,overwrite=False)\n",
        "\n",
        "    weather_df = weather_df.reset_index()\n",
        "    weather_df = weather_df.drop(['datetime','day','week','month'],axis=1)\n",
        "        \n",
        "    return weather_df\n",
        "\n",
        "def limit_dew_temp(air_temp, dew_temp):\n",
        "    if dew_temp > air_temp:\n",
        "        return air_temp\n",
        "    else:\n",
        "        return dew_temp"
      ],
      "execution_count": 0,
      "outputs": []
    },
    {
      "cell_type": "code",
      "metadata": {
        "id": "XyUXUDjkt9o9",
        "colab_type": "code",
        "outputId": "7b68b35c-a8c1-414d-9869-aedf17add77f",
        "colab": {
          "base_uri": "https://localhost:8080/",
          "height": 136
        }
      },
      "source": [
        "df_weather_train = fill_weather_dataset(df_weather_train)\n",
        "df_weather_train['dew_temperature'] = df_weather_train.apply(lambda x: limit_dew_temp(x.air_temperature, x.dew_temperature), axis=1)"
      ],
      "execution_count": 0,
      "outputs": [
        {
          "output_type": "stream",
          "text": [
            "/usr/local/lib/python3.6/dist-packages/ipykernel_launcher.py:19: FutureWarning: Sorting because non-concatenation axis is not aligned. A future version\n",
            "of pandas will change to not sort by default.\n",
            "\n",
            "To accept the future behavior, pass 'sort=False'.\n",
            "\n",
            "To retain the current behavior and silence the warning, pass 'sort=True'.\n",
            "\n"
          ],
          "name": "stderr"
        }
      ]
    },
    {
      "cell_type": "code",
      "metadata": {
        "id": "Xs0E8r4yu6YC",
        "colab_type": "code",
        "outputId": "16f680b2-08aa-4c0f-e51f-294835af349b",
        "colab": {
          "base_uri": "https://localhost:8080/",
          "height": 204
        }
      },
      "source": [
        "df_weather_train.head()"
      ],
      "execution_count": 0,
      "outputs": [
        {
          "output_type": "execute_result",
          "data": {
            "text/html": [
              "<div>\n",
              "<style scoped>\n",
              "    .dataframe tbody tr th:only-of-type {\n",
              "        vertical-align: middle;\n",
              "    }\n",
              "\n",
              "    .dataframe tbody tr th {\n",
              "        vertical-align: top;\n",
              "    }\n",
              "\n",
              "    .dataframe thead th {\n",
              "        text-align: right;\n",
              "    }\n",
              "</style>\n",
              "<table border=\"1\" class=\"dataframe\">\n",
              "  <thead>\n",
              "    <tr style=\"text-align: right;\">\n",
              "      <th></th>\n",
              "      <th>site_id</th>\n",
              "      <th>air_temperature</th>\n",
              "      <th>cloud_coverage</th>\n",
              "      <th>dew_temperature</th>\n",
              "      <th>precip_depth_1_hr</th>\n",
              "      <th>sea_level_pressure</th>\n",
              "      <th>timestamp</th>\n",
              "      <th>wind_direction</th>\n",
              "      <th>wind_speed</th>\n",
              "    </tr>\n",
              "  </thead>\n",
              "  <tbody>\n",
              "    <tr>\n",
              "      <th>0</th>\n",
              "      <td>0</td>\n",
              "      <td>25.0</td>\n",
              "      <td>6.000000</td>\n",
              "      <td>20.0</td>\n",
              "      <td>-0.173913</td>\n",
              "      <td>1019.7</td>\n",
              "      <td>2016-01-01 00:00:00</td>\n",
              "      <td>0.0</td>\n",
              "      <td>0.0</td>\n",
              "    </tr>\n",
              "    <tr>\n",
              "      <th>1</th>\n",
              "      <td>0</td>\n",
              "      <td>24.4</td>\n",
              "      <td>4.285714</td>\n",
              "      <td>21.1</td>\n",
              "      <td>-1.000000</td>\n",
              "      <td>1020.2</td>\n",
              "      <td>2016-01-01 01:00:00</td>\n",
              "      <td>70.0</td>\n",
              "      <td>1.5</td>\n",
              "    </tr>\n",
              "    <tr>\n",
              "      <th>2</th>\n",
              "      <td>0</td>\n",
              "      <td>22.8</td>\n",
              "      <td>2.000000</td>\n",
              "      <td>21.1</td>\n",
              "      <td>0.000000</td>\n",
              "      <td>1020.2</td>\n",
              "      <td>2016-01-01 02:00:00</td>\n",
              "      <td>0.0</td>\n",
              "      <td>0.0</td>\n",
              "    </tr>\n",
              "    <tr>\n",
              "      <th>3</th>\n",
              "      <td>0</td>\n",
              "      <td>21.1</td>\n",
              "      <td>2.000000</td>\n",
              "      <td>20.6</td>\n",
              "      <td>0.000000</td>\n",
              "      <td>1020.1</td>\n",
              "      <td>2016-01-01 03:00:00</td>\n",
              "      <td>0.0</td>\n",
              "      <td>0.0</td>\n",
              "    </tr>\n",
              "    <tr>\n",
              "      <th>4</th>\n",
              "      <td>0</td>\n",
              "      <td>20.0</td>\n",
              "      <td>2.000000</td>\n",
              "      <td>20.0</td>\n",
              "      <td>-1.000000</td>\n",
              "      <td>1020.0</td>\n",
              "      <td>2016-01-01 04:00:00</td>\n",
              "      <td>250.0</td>\n",
              "      <td>2.6</td>\n",
              "    </tr>\n",
              "  </tbody>\n",
              "</table>\n",
              "</div>"
            ],
            "text/plain": [
              "   site_id  air_temperature  ...  wind_direction  wind_speed\n",
              "0        0             25.0  ...             0.0         0.0\n",
              "1        0             24.4  ...            70.0         1.5\n",
              "2        0             22.8  ...             0.0         0.0\n",
              "3        0             21.1  ...             0.0         0.0\n",
              "4        0             20.0  ...           250.0         2.6\n",
              "\n",
              "[5 rows x 9 columns]"
            ]
          },
          "metadata": {
            "tags": []
          },
          "execution_count": 66
        }
      ]
    },
    {
      "cell_type": "code",
      "metadata": {
        "id": "3M9WyDh4vKLY",
        "colab_type": "code",
        "outputId": "6d46a0fa-1d94-4a19-9efc-d5a441ee0724",
        "colab": {
          "base_uri": "https://localhost:8080/",
          "height": 187
        }
      },
      "source": [
        "df_weather_train.isna().sum()"
      ],
      "execution_count": 0,
      "outputs": [
        {
          "output_type": "execute_result",
          "data": {
            "text/plain": [
              "site_id               0\n",
              "air_temperature       0\n",
              "cloud_coverage        0\n",
              "dew_temperature       0\n",
              "precip_depth_1_hr     0\n",
              "sea_level_pressure    0\n",
              "timestamp             0\n",
              "wind_direction        0\n",
              "wind_speed            0\n",
              "dtype: int64"
            ]
          },
          "metadata": {
            "tags": []
          },
          "execution_count": 67
        }
      ]
    },
    {
      "cell_type": "code",
      "metadata": {
        "id": "CgY7DjFJvVks",
        "colab_type": "code",
        "outputId": "94a7ce83-137a-4a72-a577-d13f0070c982",
        "colab": {
          "base_uri": "https://localhost:8080/",
          "height": 1000
        }
      },
      "source": [
        "for var in ['dew_temperature','air_temperature','wind_speed']:\n",
        "    plot_hist(df_weather_train,var)"
      ],
      "execution_count": 0,
      "outputs": [
        {
          "output_type": "display_data",
          "data": {
            "image/png": "[encoded data removed]",
            "text/plain": [
              "<Figure size 1008x432 with 1 Axes>"
            ]
          },
          "metadata": {
            "tags": []
          }
        },
        {
          "output_type": "display_data",
          "data": {
            "image/png": "[encoded data removed]",
            "text/plain": [
              "<Figure size 1008x432 with 1 Axes>"
            ]
          },
          "metadata": {
            "tags": []
          }
        },
        {
          "output_type": "display_data",
          "data": {
            "image/png": "[encoded data removed]",
            "text/plain": [
              "<Figure size 1008x432 with 1 Axes>"
            ]
          },
          "metadata": {
            "tags": []
          }
        }
      ]
    },
    {
      "cell_type": "code",
      "metadata": {
        "id": "IJJ54GFQ1hv_",
        "colab_type": "code",
        "outputId": "efc21fda-b90c-4271-b5d0-e1fd5a132eb5",
        "colab": {
          "base_uri": "https://localhost:8080/",
          "height": 34
        }
      },
      "source": [
        "df_weather_train = reduce_mem_usage(df_weather_train)"
      ],
      "execution_count": 0,
      "outputs": [
        {
          "output_type": "stream",
          "text": [
            "Mem. usage decreased to  3.07 Mb (68.1% reduction)\n"
          ],
          "name": "stdout"
        }
      ]
    },
    {
      "cell_type": "code",
      "metadata": {
        "id": "wC0gJHjTvemN",
        "colab_type": "code",
        "outputId": "ccb52830-82cb-447f-df77-1d4f595c34cf",
        "colab": {
          "base_uri": "https://localhost:8080/",
          "height": 204
        }
      },
      "source": [
        "train_df = pd.merge(df_train,df_building_metadata,on = 'building_id')\n",
        "train_df.head()"
      ],
      "execution_count": 0,
      "outputs": [
        {
          "output_type": "execute_result",
          "data": {
            "text/html": [
              "<div>\n",
              "<style scoped>\n",
              "    .dataframe tbody tr th:only-of-type {\n",
              "        vertical-align: middle;\n",
              "    }\n",
              "\n",
              "    .dataframe tbody tr th {\n",
              "        vertical-align: top;\n",
              "    }\n",
              "\n",
              "    .dataframe thead th {\n",
              "        text-align: right;\n",
              "    }\n",
              "</style>\n",
              "<table border=\"1\" class=\"dataframe\">\n",
              "  <thead>\n",
              "    <tr style=\"text-align: right;\">\n",
              "      <th></th>\n",
              "      <th>building_id</th>\n",
              "      <th>meter</th>\n",
              "      <th>timestamp</th>\n",
              "      <th>meter_reading</th>\n",
              "      <th>month</th>\n",
              "      <th>dayofweek</th>\n",
              "      <th>hourofday</th>\n",
              "      <th>site_id</th>\n",
              "      <th>primary_use</th>\n",
              "      <th>square_feet</th>\n",
              "      <th>year_built</th>\n",
              "      <th>floor_count</th>\n",
              "    </tr>\n",
              "  </thead>\n",
              "  <tbody>\n",
              "    <tr>\n",
              "      <th>0</th>\n",
              "      <td>0</td>\n",
              "      <td>0</td>\n",
              "      <td>2016-01-01 00:00:00</td>\n",
              "      <td>0.0</td>\n",
              "      <td>1</td>\n",
              "      <td>4</td>\n",
              "      <td>0</td>\n",
              "      <td>0</td>\n",
              "      <td>0</td>\n",
              "      <td>7432</td>\n",
              "      <td>2008.0</td>\n",
              "      <td>9.0</td>\n",
              "    </tr>\n",
              "    <tr>\n",
              "      <th>1</th>\n",
              "      <td>0</td>\n",
              "      <td>0</td>\n",
              "      <td>2016-01-01 01:00:00</td>\n",
              "      <td>0.0</td>\n",
              "      <td>1</td>\n",
              "      <td>4</td>\n",
              "      <td>1</td>\n",
              "      <td>0</td>\n",
              "      <td>0</td>\n",
              "      <td>7432</td>\n",
              "      <td>2008.0</td>\n",
              "      <td>9.0</td>\n",
              "    </tr>\n",
              "    <tr>\n",
              "      <th>2</th>\n",
              "      <td>0</td>\n",
              "      <td>0</td>\n",
              "      <td>2016-01-01 02:00:00</td>\n",
              "      <td>0.0</td>\n",
              "      <td>1</td>\n",
              "      <td>4</td>\n",
              "      <td>2</td>\n",
              "      <td>0</td>\n",
              "      <td>0</td>\n",
              "      <td>7432</td>\n",
              "      <td>2008.0</td>\n",
              "      <td>9.0</td>\n",
              "    </tr>\n",
              "    <tr>\n",
              "      <th>3</th>\n",
              "      <td>0</td>\n",
              "      <td>0</td>\n",
              "      <td>2016-01-01 03:00:00</td>\n",
              "      <td>0.0</td>\n",
              "      <td>1</td>\n",
              "      <td>4</td>\n",
              "      <td>3</td>\n",
              "      <td>0</td>\n",
              "      <td>0</td>\n",
              "      <td>7432</td>\n",
              "      <td>2008.0</td>\n",
              "      <td>9.0</td>\n",
              "    </tr>\n",
              "    <tr>\n",
              "      <th>4</th>\n",
              "      <td>0</td>\n",
              "      <td>0</td>\n",
              "      <td>2016-01-01 04:00:00</td>\n",
              "      <td>0.0</td>\n",
              "      <td>1</td>\n",
              "      <td>4</td>\n",
              "      <td>4</td>\n",
              "      <td>0</td>\n",
              "      <td>0</td>\n",
              "      <td>7432</td>\n",
              "      <td>2008.0</td>\n",
              "      <td>9.0</td>\n",
              "    </tr>\n",
              "  </tbody>\n",
              "</table>\n",
              "</div>"
            ],
            "text/plain": [
              "   building_id  meter           timestamp  ...  square_feet  year_built  floor_count\n",
              "0            0      0 2016-01-01 00:00:00  ...         7432      2008.0          9.0\n",
              "1            0      0 2016-01-01 01:00:00  ...         7432      2008.0          9.0\n",
              "2            0      0 2016-01-01 02:00:00  ...         7432      2008.0          9.0\n",
              "3            0      0 2016-01-01 03:00:00  ...         7432      2008.0          9.0\n",
              "4            0      0 2016-01-01 04:00:00  ...         7432      2008.0          9.0\n",
              "\n",
              "[5 rows x 12 columns]"
            ]
          },
          "metadata": {
            "tags": []
          },
          "execution_count": 70
        }
      ]
    },
    {
      "cell_type": "code",
      "metadata": {
        "id": "I8FJT6K0vxOn",
        "colab_type": "code",
        "outputId": "e312a277-0210-4792-cb0b-50010a83007f",
        "colab": {
          "base_uri": "https://localhost:8080/",
          "height": 34
        }
      },
      "source": [
        "train_df.shape"
      ],
      "execution_count": 0,
      "outputs": [
        {
          "output_type": "execute_result",
          "data": {
            "text/plain": [
              "(20216100, 12)"
            ]
          },
          "metadata": {
            "tags": []
          },
          "execution_count": 71
        }
      ]
    },
    {
      "cell_type": "code",
      "metadata": {
        "id": "e_Za0Gx_wBW9",
        "colab_type": "code",
        "colab": {}
      },
      "source": [
        "df_weather_train['timestamp'] = pd.to_datetime(df_weather_train['timestamp'])\n",
        "train_df = pd.merge(train_df,df_weather_train,on = ['site_id','timestamp'])"
      ],
      "execution_count": 0,
      "outputs": []
    },
    {
      "cell_type": "code",
      "metadata": {
        "id": "AzatPCRqwB9B",
        "colab_type": "code",
        "outputId": "a310e92c-4696-4e1f-c64a-965a48d603aa",
        "colab": {
          "base_uri": "https://localhost:8080/",
          "height": 34
        }
      },
      "source": [
        "train_df.shape"
      ],
      "execution_count": 0,
      "outputs": [
        {
          "output_type": "execute_result",
          "data": {
            "text/plain": [
              "(20170686, 19)"
            ]
          },
          "metadata": {
            "tags": []
          },
          "execution_count": 73
        }
      ]
    },
    {
      "cell_type": "code",
      "metadata": {
        "id": "Kgo6ns_8wLnG",
        "colab_type": "code",
        "outputId": "8d8fa7b3-640f-4af0-b89c-f751710f4f21",
        "colab": {
          "base_uri": "https://localhost:8080/",
          "height": 297
        }
      },
      "source": [
        "sns.boxplot(train_df['square_feet'])"
      ],
      "execution_count": 0,
      "outputs": [
        {
          "output_type": "execute_result",
          "data": {
            "text/plain": [
              "<matplotlib.axes._subplots.AxesSubplot at 0x7f419836f588>"
            ]
          },
          "metadata": {
            "tags": []
          },
          "execution_count": 74
        },
        {
          "output_type": "display_data",
          "data": {
            "image/png": "[encoded data removed]",
            "text/plain": [
              "<Figure size 432x288 with 1 Axes>"
            ]
          },
          "metadata": {
            "tags": []
          }
        }
      ]
    },
    {
      "cell_type": "code",
      "metadata": {
        "id": "Xhj5owIXwyGp",
        "colab_type": "code",
        "colab": {}
      },
      "source": [
        "train_df['square_feet'] =  np.log(train_df['square_feet'])"
      ],
      "execution_count": 0,
      "outputs": []
    },
    {
      "cell_type": "code",
      "metadata": {
        "id": "BEGb4B-tw23j",
        "colab_type": "code",
        "outputId": "33256a8b-6bbb-46de-b009-7a525480b47f",
        "colab": {
          "base_uri": "https://localhost:8080/",
          "height": 297
        }
      },
      "source": [
        "sns.boxplot(train_df['square_feet'])"
      ],
      "execution_count": 0,
      "outputs": [
        {
          "output_type": "execute_result",
          "data": {
            "text/plain": [
              "<matplotlib.axes._subplots.AxesSubplot at 0x7f4198a83470>"
            ]
          },
          "metadata": {
            "tags": []
          },
          "execution_count": 76
        },
        {
          "output_type": "display_data",
          "data": {
            "image/png": "[encoded data removed]",
            "text/plain": [
              "<Figure size 432x288 with 1 Axes>"
            ]
          },
          "metadata": {
            "tags": []
          }
        }
      ]
    },
    {
      "cell_type": "code",
      "metadata": {
        "id": "Umt9rU45w4-G",
        "colab_type": "code",
        "outputId": "55540aff-cf22-45fc-9c72-eea39a13b37e",
        "colab": {
          "base_uri": "https://localhost:8080/",
          "height": 297
        }
      },
      "source": [
        "sns.boxplot(train_df['meter_reading'])"
      ],
      "execution_count": 0,
      "outputs": [
        {
          "output_type": "execute_result",
          "data": {
            "text/plain": [
              "<matplotlib.axes._subplots.AxesSubplot at 0x7f41989da0b8>"
            ]
          },
          "metadata": {
            "tags": []
          },
          "execution_count": 77
        },
        {
          "output_type": "display_data",
          "data": {
            "image/png": "[encoded data removed]",
            "text/plain": [
              "<Figure size 432x288 with 1 Axes>"
            ]
          },
          "metadata": {
            "tags": []
          }
        }
      ]
    },
    {
      "cell_type": "code",
      "metadata": {
        "id": "2HYsSpMwxImi",
        "colab_type": "code",
        "colab": {}
      },
      "source": [
        "target = np.log1p(train_df[\"meter_reading\"])"
      ],
      "execution_count": 0,
      "outputs": []
    },
    {
      "cell_type": "code",
      "metadata": {
        "id": "xrrR1D_BxObt",
        "colab_type": "code",
        "outputId": "758854aa-c0f9-4e6f-9199-f6f7806a5d23",
        "colab": {
          "base_uri": "https://localhost:8080/",
          "height": 297
        }
      },
      "source": [
        "sns.boxplot(target)"
      ],
      "execution_count": 0,
      "outputs": [
        {
          "output_type": "execute_result",
          "data": {
            "text/plain": [
              "<matplotlib.axes._subplots.AxesSubplot at 0x7f4198996780>"
            ]
          },
          "metadata": {
            "tags": []
          },
          "execution_count": 79
        },
        {
          "output_type": "display_data",
          "data": {
            "image/png": "[encoded data removed]",
            "text/plain": [
              "<Figure size 432x288 with 1 Axes>"
            ]
          },
          "metadata": {
            "tags": []
          }
        }
      ]
    },
    {
      "cell_type": "code",
      "metadata": {
        "id": "2b5XaWa2xSNF",
        "colab_type": "code",
        "colab": {}
      },
      "source": [
        "features = train_df.drop('meter_reading', axis = 1)"
      ],
      "execution_count": 0,
      "outputs": []
    },
    {
      "cell_type": "code",
      "metadata": {
        "id": "96fEbRpgxaHf",
        "colab_type": "code",
        "colab": {}
      },
      "source": [
        "features=features.drop(\"timestamp\",axis = 1)"
      ],
      "execution_count": 0,
      "outputs": []
    },
    {
      "cell_type": "code",
      "metadata": {
        "id": "X6weuQKIxgbk",
        "colab_type": "code",
        "outputId": "678f0109-1a0d-469d-da7b-8f2c9b8ceac7",
        "colab": {
          "base_uri": "https://localhost:8080/",
          "height": 323
        }
      },
      "source": [
        "features.isna().sum()"
      ],
      "execution_count": 0,
      "outputs": [
        {
          "output_type": "execute_result",
          "data": {
            "text/plain": [
              "building_id           0\n",
              "meter                 0\n",
              "month                 0\n",
              "dayofweek             0\n",
              "hourofday             0\n",
              "site_id               0\n",
              "primary_use           0\n",
              "square_feet           0\n",
              "year_built            0\n",
              "floor_count           0\n",
              "air_temperature       0\n",
              "cloud_coverage        0\n",
              "dew_temperature       0\n",
              "precip_depth_1_hr     0\n",
              "sea_level_pressure    0\n",
              "wind_direction        0\n",
              "wind_speed            0\n",
              "dtype: int64"
            ]
          },
          "metadata": {
            "tags": []
          },
          "execution_count": 82
        }
      ]
    },
    {
      "cell_type": "code",
      "metadata": {
        "id": "CbOky_vkxiek",
        "colab_type": "code",
        "outputId": "03c2a8ab-4d98-4f71-890b-b6e783e23af4",
        "colab": {
          "base_uri": "https://localhost:8080/",
          "height": 34
        }
      },
      "source": [
        "features.shape"
      ],
      "execution_count": 0,
      "outputs": [
        {
          "output_type": "execute_result",
          "data": {
            "text/plain": [
              "(20170686, 17)"
            ]
          },
          "metadata": {
            "tags": []
          },
          "execution_count": 83
        }
      ]
    },
    {
      "cell_type": "code",
      "metadata": {
        "id": "7VDHbPe3xpQx",
        "colab_type": "code",
        "outputId": "15f5e342-e865-45f6-90a0-bd8f6cd33966",
        "colab": {
          "base_uri": "https://localhost:8080/",
          "height": 34
        }
      },
      "source": [
        "target.shape"
      ],
      "execution_count": 0,
      "outputs": [
        {
          "output_type": "execute_result",
          "data": {
            "text/plain": [
              "(20170686,)"
            ]
          },
          "metadata": {
            "tags": []
          },
          "execution_count": 84
        }
      ]
    },
    {
      "cell_type": "markdown",
      "metadata": {
        "id": "Gp5ubqvkxtza",
        "colab_type": "text"
      },
      "source": [
        "# Testing Data"
      ]
    },
    {
      "cell_type": "code",
      "metadata": {
        "id": "tQWXniKgxqhB",
        "colab_type": "code",
        "outputId": "39f4d7da-b427-40c1-9487-81d9ff48ca9f",
        "colab": {
          "base_uri": "https://localhost:8080/",
          "height": 646
        }
      },
      "source": [
        "df_test = read_and_interpret_data('test.csv')"
      ],
      "execution_count": 0,
      "outputs": [
        {
          "output_type": "stream",
          "text": [
            "~~~~~~Shape of the data~~~~~~ :  (41697600, 4)\n",
            "~~~~~~Columns and their datatype~~~~~~ : \n",
            "<class 'pandas.core.frame.DataFrame'>\n",
            "RangeIndex: 41697600 entries, 0 to 41697599\n",
            "Data columns (total 4 columns):\n",
            "row_id         int64\n",
            "building_id    int64\n",
            "meter          int64\n",
            "timestamp      object\n",
            "dtypes: int64(3), object(1)\n",
            "memory usage: 1.2+ GB\n",
            "None\n",
            "~~~~~~Quick Look at the data~~~~~~ : \n",
            "   row_id  building_id  meter            timestamp\n",
            "0       0            0      0  2017-01-01 00:00:00\n",
            "1       1            1      0  2017-01-01 00:00:00\n",
            "2       2            2      0  2017-01-01 00:00:00\n",
            "3       3            3      0  2017-01-01 00:00:00\n",
            "4       4            4      0  2017-01-01 00:00:00\n",
            "~~~~~~Description of the data~~~~~~ : \n",
            "             row_id   building_id         meter\n",
            "count  4.169760e+07  4.169760e+07  4.169760e+07\n",
            "mean   2.084880e+07  8.075824e+02  6.642857e-01\n",
            "std    1.203706e+07  4.297680e+02  9.278067e-01\n",
            "min    0.000000e+00  0.000000e+00  0.000000e+00\n",
            "25%    1.042440e+07  4.047500e+02  0.000000e+00\n",
            "50%    2.084880e+07  9.000000e+02  0.000000e+00\n",
            "75%    3.127320e+07  1.194250e+03  1.000000e+00\n",
            "max    4.169760e+07  1.448000e+03  3.000000e+00\n",
            "~~~~~~NAs present in the data~~~~~~ : \n",
            "row_id         0\n",
            "building_id    0\n",
            "meter          0\n",
            "timestamp      0\n",
            "dtype: int64\n",
            "~~~~~~Year of the data~~~~~~ :\n",
            "[2017 2018]\n"
          ],
          "name": "stdout"
        }
      ]
    },
    {
      "cell_type": "code",
      "metadata": {
        "id": "aIqKKThtx0EP",
        "colab_type": "code",
        "colab": {}
      },
      "source": [
        "df_test['month'] = df_test['timestamp'].dt.month\n",
        "df_test['dayofweek'] = df_test['timestamp'].dt.dayofweek\n",
        "df_test['hourofday'] = df_test['timestamp'].dt.hour"
      ],
      "execution_count": 0,
      "outputs": []
    },
    {
      "cell_type": "code",
      "metadata": {
        "id": "pE86nacq2M9m",
        "colab_type": "code",
        "outputId": "567ff38d-9bc4-4080-aab8-382bcdc60103",
        "colab": {
          "base_uri": "https://localhost:8080/",
          "height": 34
        }
      },
      "source": [
        "df_test = reduce_mem_usage(df_test)"
      ],
      "execution_count": 0,
      "outputs": [
        {
          "output_type": "stream",
          "text": [
            "Mem. usage decreased to 715.79 Mb (67.9% reduction)\n"
          ],
          "name": "stdout"
        }
      ]
    },
    {
      "cell_type": "code",
      "metadata": {
        "id": "cMapH89HyI-6",
        "colab_type": "code",
        "outputId": "7009c8b7-52cc-472d-eb9a-2598aba9c44d",
        "colab": {
          "base_uri": "https://localhost:8080/",
          "height": 884
        }
      },
      "source": [
        "df_weather_test = read_and_interpret_data('weather_test.csv')"
      ],
      "execution_count": 0,
      "outputs": [
        {
          "output_type": "stream",
          "text": [
            "~~~~~~Shape of the data~~~~~~ :  (277243, 9)\n",
            "~~~~~~Columns and their datatype~~~~~~ : \n",
            "<class 'pandas.core.frame.DataFrame'>\n",
            "RangeIndex: 277243 entries, 0 to 277242\n",
            "Data columns (total 9 columns):\n",
            "site_id               277243 non-null int64\n",
            "timestamp             277243 non-null object\n",
            "air_temperature       277139 non-null float64\n",
            "cloud_coverage        136795 non-null float64\n",
            "dew_temperature       276916 non-null float64\n",
            "precip_depth_1_hr     181655 non-null float64\n",
            "sea_level_pressure    255978 non-null float64\n",
            "wind_direction        264873 non-null float64\n",
            "wind_speed            276783 non-null float64\n",
            "dtypes: float64(7), int64(1), object(1)\n",
            "memory usage: 19.0+ MB\n",
            "None\n",
            "~~~~~~Quick Look at the data~~~~~~ : \n",
            "   site_id            timestamp  ...  wind_direction  wind_speed\n",
            "0        0  2017-01-01 00:00:00  ...           100.0         3.6\n",
            "1        0  2017-01-01 01:00:00  ...           130.0         3.1\n",
            "2        0  2017-01-01 02:00:00  ...           140.0         3.1\n",
            "3        0  2017-01-01 03:00:00  ...           140.0         3.1\n",
            "4        0  2017-01-01 04:00:00  ...           130.0         2.6\n",
            "\n",
            "[5 rows x 9 columns]\n",
            "~~~~~~Description of the data~~~~~~ : \n",
            "             site_id  air_temperature  ...  wind_direction     wind_speed\n",
            "count  277243.000000    277139.000000  ...   264873.000000  276783.000000\n",
            "mean        7.484654        14.276863  ...      180.426023       3.548873\n",
            "std         4.616959        10.741605  ...      110.456872       2.317184\n",
            "min         0.000000       -28.100000  ...        0.000000       0.000000\n",
            "25%         3.000000         7.200000  ...       80.000000       2.100000\n",
            "50%         7.000000        15.000000  ...      190.000000       3.100000\n",
            "75%        12.000000        22.200000  ...      280.000000       4.600000\n",
            "max        15.000000        48.300000  ...      360.000000      24.200000\n",
            "\n",
            "[8 rows x 8 columns]\n",
            "~~~~~~NAs present in the data~~~~~~ : \n",
            "site_id                    0\n",
            "timestamp                  0\n",
            "air_temperature          104\n",
            "cloud_coverage        140448\n",
            "dew_temperature          327\n",
            "precip_depth_1_hr      95588\n",
            "sea_level_pressure     21265\n",
            "wind_direction         12370\n",
            "wind_speed               460\n",
            "dtype: int64\n",
            "~~~~~~Year of the data~~~~~~ :\n",
            "[2017 2018]\n"
          ],
          "name": "stdout"
        }
      ]
    },
    {
      "cell_type": "code",
      "metadata": {
        "id": "Tq_l3gpLyQme",
        "colab_type": "code",
        "outputId": "a7d13d23-9cb0-4c09-8ec8-341e4145eb51",
        "colab": {
          "base_uri": "https://localhost:8080/",
          "height": 1000
        }
      },
      "source": [
        "for var in ['dew_temperature','air_temperature','wind_speed']:\n",
        "    plot_hist(df_weather_test,var)"
      ],
      "execution_count": 0,
      "outputs": [
        {
          "output_type": "stream",
          "text": [
            "/usr/local/lib/python3.6/dist-packages/numpy/lib/histograms.py:839: RuntimeWarning: invalid value encountered in greater_equal\n",
            "  keep = (tmp_a >= first_edge)\n",
            "/usr/local/lib/python3.6/dist-packages/numpy/lib/histograms.py:840: RuntimeWarning: invalid value encountered in less_equal\n",
            "  keep &= (tmp_a <= last_edge)\n"
          ],
          "name": "stderr"
        },
        {
          "output_type": "display_data",
          "data": {
            "image/png": "[encoded data removed]",
            "text/plain": [
              "<Figure size 1008x432 with 1 Axes>"
            ]
          },
          "metadata": {
            "tags": []
          }
        },
        {
          "output_type": "display_data",
          "data": {
            "image/png": "[encoded data removed]",
            "text/plain": [
              "<Figure size 1008x432 with 1 Axes>"
            ]
          },
          "metadata": {
            "tags": []
          }
        },
        {
          "output_type": "display_data",
          "data": {
            "image/png": "[encoded data removed]",
            "text/plain": [
              "<Figure size 1008x432 with 1 Axes>"
            ]
          },
          "metadata": {
            "tags": []
          }
        }
      ]
    },
    {
      "cell_type": "code",
      "metadata": {
        "id": "YNXDptNZyYCN",
        "colab_type": "code",
        "outputId": "dcc297f4-a736-4587-af46-fc42c180a6dc",
        "colab": {
          "base_uri": "https://localhost:8080/",
          "height": 187
        }
      },
      "source": [
        "df_weather_test.isna().sum()"
      ],
      "execution_count": 0,
      "outputs": [
        {
          "output_type": "execute_result",
          "data": {
            "text/plain": [
              "site_id                    0\n",
              "timestamp                  0\n",
              "air_temperature          104\n",
              "cloud_coverage        140448\n",
              "dew_temperature          327\n",
              "precip_depth_1_hr      95588\n",
              "sea_level_pressure     21265\n",
              "wind_direction         12370\n",
              "wind_speed               460\n",
              "dtype: int64"
            ]
          },
          "metadata": {
            "tags": []
          },
          "execution_count": 90
        }
      ]
    },
    {
      "cell_type": "code",
      "metadata": {
        "id": "6fsb0Q3yyc2d",
        "colab_type": "code",
        "colab": {}
      },
      "source": [
        "df_weather_test.fillna(df_weather_test.median(),inplace=True)\n",
        "df_weather_test['dew_temperature'] = df_weather_test.apply(lambda x: limit_dew_temp(x.air_temperature, x.dew_temperature), axis=1)"
      ],
      "execution_count": 0,
      "outputs": []
    },
    {
      "cell_type": "code",
      "metadata": {
        "id": "S9mhGUfVzIhS",
        "colab_type": "code",
        "outputId": "445d2e4f-9a69-4e97-ed03-36f5a1fcca77",
        "colab": {
          "base_uri": "https://localhost:8080/",
          "height": 187
        }
      },
      "source": [
        "df_weather_test.isna().sum()"
      ],
      "execution_count": 0,
      "outputs": [
        {
          "output_type": "execute_result",
          "data": {
            "text/plain": [
              "site_id               0\n",
              "timestamp             0\n",
              "air_temperature       0\n",
              "cloud_coverage        0\n",
              "dew_temperature       0\n",
              "precip_depth_1_hr     0\n",
              "sea_level_pressure    0\n",
              "wind_direction        0\n",
              "wind_speed            0\n",
              "dtype: int64"
            ]
          },
          "metadata": {
            "tags": []
          },
          "execution_count": 92
        }
      ]
    },
    {
      "cell_type": "code",
      "metadata": {
        "id": "30LsUNvMzYhy",
        "colab_type": "code",
        "outputId": "94064619-0995-4a3b-85fd-0a2478c2749f",
        "colab": {
          "base_uri": "https://localhost:8080/",
          "height": 204
        }
      },
      "source": [
        "df_weather_test.tail()"
      ],
      "execution_count": 0,
      "outputs": [
        {
          "output_type": "execute_result",
          "data": {
            "text/html": [
              "<div>\n",
              "<style scoped>\n",
              "    .dataframe tbody tr th:only-of-type {\n",
              "        vertical-align: middle;\n",
              "    }\n",
              "\n",
              "    .dataframe tbody tr th {\n",
              "        vertical-align: top;\n",
              "    }\n",
              "\n",
              "    .dataframe thead th {\n",
              "        text-align: right;\n",
              "    }\n",
              "</style>\n",
              "<table border=\"1\" class=\"dataframe\">\n",
              "  <thead>\n",
              "    <tr style=\"text-align: right;\">\n",
              "      <th></th>\n",
              "      <th>site_id</th>\n",
              "      <th>timestamp</th>\n",
              "      <th>air_temperature</th>\n",
              "      <th>cloud_coverage</th>\n",
              "      <th>dew_temperature</th>\n",
              "      <th>precip_depth_1_hr</th>\n",
              "      <th>sea_level_pressure</th>\n",
              "      <th>wind_direction</th>\n",
              "      <th>wind_speed</th>\n",
              "    </tr>\n",
              "  </thead>\n",
              "  <tbody>\n",
              "    <tr>\n",
              "      <th>277238</th>\n",
              "      <td>15</td>\n",
              "      <td>2018-12-31 19:00:00</td>\n",
              "      <td>3.3</td>\n",
              "      <td>2.0</td>\n",
              "      <td>1.7</td>\n",
              "      <td>0.0</td>\n",
              "      <td>1018.3</td>\n",
              "      <td>150.0</td>\n",
              "      <td>7.7</td>\n",
              "    </tr>\n",
              "    <tr>\n",
              "      <th>277239</th>\n",
              "      <td>15</td>\n",
              "      <td>2018-12-31 20:00:00</td>\n",
              "      <td>2.8</td>\n",
              "      <td>2.0</td>\n",
              "      <td>1.1</td>\n",
              "      <td>0.0</td>\n",
              "      <td>1017.8</td>\n",
              "      <td>140.0</td>\n",
              "      <td>5.1</td>\n",
              "    </tr>\n",
              "    <tr>\n",
              "      <th>277240</th>\n",
              "      <td>15</td>\n",
              "      <td>2018-12-31 21:00:00</td>\n",
              "      <td>2.8</td>\n",
              "      <td>2.0</td>\n",
              "      <td>1.7</td>\n",
              "      <td>-1.0</td>\n",
              "      <td>1017.2</td>\n",
              "      <td>140.0</td>\n",
              "      <td>6.2</td>\n",
              "    </tr>\n",
              "    <tr>\n",
              "      <th>277241</th>\n",
              "      <td>15</td>\n",
              "      <td>2018-12-31 22:00:00</td>\n",
              "      <td>2.8</td>\n",
              "      <td>2.0</td>\n",
              "      <td>2.2</td>\n",
              "      <td>8.0</td>\n",
              "      <td>1016.1</td>\n",
              "      <td>140.0</td>\n",
              "      <td>5.1</td>\n",
              "    </tr>\n",
              "    <tr>\n",
              "      <th>277242</th>\n",
              "      <td>15</td>\n",
              "      <td>2018-12-31 23:00:00</td>\n",
              "      <td>3.3</td>\n",
              "      <td>2.0</td>\n",
              "      <td>2.2</td>\n",
              "      <td>20.0</td>\n",
              "      <td>1014.7</td>\n",
              "      <td>140.0</td>\n",
              "      <td>5.1</td>\n",
              "    </tr>\n",
              "  </tbody>\n",
              "</table>\n",
              "</div>"
            ],
            "text/plain": [
              "        site_id           timestamp  ...  wind_direction  wind_speed\n",
              "277238       15 2018-12-31 19:00:00  ...           150.0         7.7\n",
              "277239       15 2018-12-31 20:00:00  ...           140.0         5.1\n",
              "277240       15 2018-12-31 21:00:00  ...           140.0         6.2\n",
              "277241       15 2018-12-31 22:00:00  ...           140.0         5.1\n",
              "277242       15 2018-12-31 23:00:00  ...           140.0         5.1\n",
              "\n",
              "[5 rows x 9 columns]"
            ]
          },
          "metadata": {
            "tags": []
          },
          "execution_count": 93
        }
      ]
    },
    {
      "cell_type": "code",
      "metadata": {
        "id": "wD6zKNLo2s_W",
        "colab_type": "code",
        "outputId": "5d840e1f-20ee-4e91-dd88-b3adb6c80238",
        "colab": {
          "base_uri": "https://localhost:8080/",
          "height": 34
        }
      },
      "source": [
        "df_weather_test = reduce_mem_usage(df_weather_test)"
      ],
      "execution_count": 0,
      "outputs": [
        {
          "output_type": "stream",
          "text": [
            "Mem. usage decreased to  6.08 Mb (68.1% reduction)\n"
          ],
          "name": "stdout"
        }
      ]
    },
    {
      "cell_type": "code",
      "metadata": {
        "id": "qvXA3rJHzc8a",
        "colab_type": "code",
        "colab": {}
      },
      "source": [
        "test_df = pd.merge(df_test,df_building_metadata,on = 'building_id')"
      ],
      "execution_count": 0,
      "outputs": []
    },
    {
      "cell_type": "code",
      "metadata": {
        "id": "KU0ZvxPbz9rq",
        "colab_type": "code",
        "colab": {}
      },
      "source": [
        "df_weather_test['timestamp'] = pd.to_datetime(df_weather_test['timestamp'])"
      ],
      "execution_count": 0,
      "outputs": []
    },
    {
      "cell_type": "code",
      "metadata": {
        "id": "AiSotvM74z15",
        "colab_type": "code",
        "outputId": "46f7000a-f3a1-4794-a99e-c4c422e05fa4",
        "colab": {
          "base_uri": "https://localhost:8080/",
          "height": 34
        }
      },
      "source": [
        "test_df = reduce_mem_usage(test_df)"
      ],
      "execution_count": 0,
      "outputs": [
        {
          "output_type": "stream",
          "text": [
            "Mem. usage decreased to 1431.57 Mb (0.0% reduction)\n"
          ],
          "name": "stdout"
        }
      ]
    },
    {
      "cell_type": "code",
      "metadata": {
        "id": "rBDKbZv53gsY",
        "colab_type": "code",
        "colab": {}
      },
      "source": [
        "test_df = pd.merge(test_df,df_weather_test,on = ['site_id','timestamp'],how='left')"
      ],
      "execution_count": 0,
      "outputs": []
    },
    {
      "cell_type": "code",
      "metadata": {
        "id": "VQ8fMBnTQSV6",
        "colab_type": "code",
        "colab": {}
      },
      "source": [
        "row_ids = test_df['row_id']\n",
        "test_df = test_df.drop(['timestamp','row_id'],axis = 1)"
      ],
      "execution_count": 0,
      "outputs": []
    },
    {
      "cell_type": "code",
      "metadata": {
        "id": "VNjHDd3yQaoq",
        "colab_type": "code",
        "colab": {}
      },
      "source": [
        "test_df[\"square_feet\"] = np.log1p(test_df[\"square_feet\"])"
      ],
      "execution_count": 0,
      "outputs": []
    },
    {
      "cell_type": "code",
      "metadata": {
        "id": "zIe-F0rBQdhK",
        "colab_type": "code",
        "outputId": "929ab24d-e0d2-4307-9b2f-fad481b0f2a2",
        "colab": {
          "base_uri": "https://localhost:8080/",
          "height": 323
        }
      },
      "source": [
        "test_df.isna().sum()"
      ],
      "execution_count": 0,
      "outputs": [
        {
          "output_type": "execute_result",
          "data": {
            "text/plain": [
              "building_id                0\n",
              "meter                      0\n",
              "month                      0\n",
              "dayofweek                  0\n",
              "hourofday                  0\n",
              "site_id                    0\n",
              "primary_use                0\n",
              "square_feet                0\n",
              "year_built                 0\n",
              "floor_count                0\n",
              "air_temperature       199029\n",
              "cloud_coverage        199029\n",
              "dew_temperature       199029\n",
              "precip_depth_1_hr     199029\n",
              "sea_level_pressure    199029\n",
              "wind_direction        199029\n",
              "wind_speed            199029\n",
              "dtype: int64"
            ]
          },
          "metadata": {
            "tags": []
          },
          "execution_count": 101
        }
      ]
    },
    {
      "cell_type": "code",
      "metadata": {
        "id": "LBto583fQjjS",
        "colab_type": "code",
        "colab": {}
      },
      "source": [
        "test_df.fillna(test_df.median(),inplace=True)"
      ],
      "execution_count": 0,
      "outputs": []
    },
    {
      "cell_type": "code",
      "metadata": {
        "id": "PcYBjXRNQtKr",
        "colab_type": "code",
        "outputId": "e17f0669-2a18-4579-f6d1-bbd605f8afc3",
        "colab": {
          "base_uri": "https://localhost:8080/",
          "height": 224
        }
      },
      "source": [
        "test_df.tail()"
      ],
      "execution_count": 0,
      "outputs": [
        {
          "output_type": "execute_result",
          "data": {
            "text/html": [
              "<div>\n",
              "<style scoped>\n",
              "    .dataframe tbody tr th:only-of-type {\n",
              "        vertical-align: middle;\n",
              "    }\n",
              "\n",
              "    .dataframe tbody tr th {\n",
              "        vertical-align: top;\n",
              "    }\n",
              "\n",
              "    .dataframe thead th {\n",
              "        text-align: right;\n",
              "    }\n",
              "</style>\n",
              "<table border=\"1\" class=\"dataframe\">\n",
              "  <thead>\n",
              "    <tr style=\"text-align: right;\">\n",
              "      <th></th>\n",
              "      <th>building_id</th>\n",
              "      <th>meter</th>\n",
              "      <th>month</th>\n",
              "      <th>dayofweek</th>\n",
              "      <th>hourofday</th>\n",
              "      <th>site_id</th>\n",
              "      <th>primary_use</th>\n",
              "      <th>square_feet</th>\n",
              "      <th>year_built</th>\n",
              "      <th>floor_count</th>\n",
              "      <th>air_temperature</th>\n",
              "      <th>cloud_coverage</th>\n",
              "      <th>dew_temperature</th>\n",
              "      <th>precip_depth_1_hr</th>\n",
              "      <th>sea_level_pressure</th>\n",
              "      <th>wind_direction</th>\n",
              "      <th>wind_speed</th>\n",
              "    </tr>\n",
              "  </thead>\n",
              "  <tbody>\n",
              "    <tr>\n",
              "      <th>41697595</th>\n",
              "      <td>1448</td>\n",
              "      <td>0</td>\n",
              "      <td>11</td>\n",
              "      <td>2</td>\n",
              "      <td>10</td>\n",
              "      <td>15</td>\n",
              "      <td>6</td>\n",
              "      <td>11.432496</td>\n",
              "      <td>2001.0</td>\n",
              "      <td>9.0</td>\n",
              "      <td>16.703125</td>\n",
              "      <td>2.0</td>\n",
              "      <td>8.898438</td>\n",
              "      <td>0.0</td>\n",
              "      <td>1016.5</td>\n",
              "      <td>190.0</td>\n",
              "      <td>3.099609</td>\n",
              "    </tr>\n",
              "    <tr>\n",
              "      <th>41697596</th>\n",
              "      <td>1448</td>\n",
              "      <td>0</td>\n",
              "      <td>11</td>\n",
              "      <td>2</td>\n",
              "      <td>11</td>\n",
              "      <td>15</td>\n",
              "      <td>6</td>\n",
              "      <td>11.432496</td>\n",
              "      <td>2001.0</td>\n",
              "      <td>9.0</td>\n",
              "      <td>16.703125</td>\n",
              "      <td>2.0</td>\n",
              "      <td>8.898438</td>\n",
              "      <td>0.0</td>\n",
              "      <td>1016.5</td>\n",
              "      <td>190.0</td>\n",
              "      <td>3.099609</td>\n",
              "    </tr>\n",
              "    <tr>\n",
              "      <th>41697597</th>\n",
              "      <td>1448</td>\n",
              "      <td>0</td>\n",
              "      <td>5</td>\n",
              "      <td>2</td>\n",
              "      <td>5</td>\n",
              "      <td>15</td>\n",
              "      <td>6</td>\n",
              "      <td>11.432496</td>\n",
              "      <td>2001.0</td>\n",
              "      <td>9.0</td>\n",
              "      <td>16.703125</td>\n",
              "      <td>2.0</td>\n",
              "      <td>8.898438</td>\n",
              "      <td>0.0</td>\n",
              "      <td>1016.5</td>\n",
              "      <td>190.0</td>\n",
              "      <td>3.099609</td>\n",
              "    </tr>\n",
              "    <tr>\n",
              "      <th>41697598</th>\n",
              "      <td>1448</td>\n",
              "      <td>0</td>\n",
              "      <td>5</td>\n",
              "      <td>2</td>\n",
              "      <td>6</td>\n",
              "      <td>15</td>\n",
              "      <td>6</td>\n",
              "      <td>11.432496</td>\n",
              "      <td>2001.0</td>\n",
              "      <td>9.0</td>\n",
              "      <td>16.703125</td>\n",
              "      <td>2.0</td>\n",
              "      <td>8.898438</td>\n",
              "      <td>0.0</td>\n",
              "      <td>1016.5</td>\n",
              "      <td>190.0</td>\n",
              "      <td>3.099609</td>\n",
              "    </tr>\n",
              "    <tr>\n",
              "      <th>41697599</th>\n",
              "      <td>1448</td>\n",
              "      <td>0</td>\n",
              "      <td>5</td>\n",
              "      <td>2</td>\n",
              "      <td>7</td>\n",
              "      <td>15</td>\n",
              "      <td>6</td>\n",
              "      <td>11.432496</td>\n",
              "      <td>2001.0</td>\n",
              "      <td>9.0</td>\n",
              "      <td>16.703125</td>\n",
              "      <td>2.0</td>\n",
              "      <td>8.898438</td>\n",
              "      <td>0.0</td>\n",
              "      <td>1016.5</td>\n",
              "      <td>190.0</td>\n",
              "      <td>3.099609</td>\n",
              "    </tr>\n",
              "  </tbody>\n",
              "</table>\n",
              "</div>"
            ],
            "text/plain": [
              "          building_id  meter  ...  wind_direction  wind_speed\n",
              "41697595         1448      0  ...           190.0    3.099609\n",
              "41697596         1448      0  ...           190.0    3.099609\n",
              "41697597         1448      0  ...           190.0    3.099609\n",
              "41697598         1448      0  ...           190.0    3.099609\n",
              "41697599         1448      0  ...           190.0    3.099609\n",
              "\n",
              "[5 rows x 17 columns]"
            ]
          },
          "metadata": {
            "tags": []
          },
          "execution_count": 103
        }
      ]
    },
    {
      "cell_type": "code",
      "metadata": {
        "id": "F2-qsydKQw1f",
        "colab_type": "code",
        "outputId": "af23a12d-df23-4335-c543-1dd89b851f05",
        "colab": {
          "base_uri": "https://localhost:8080/",
          "height": 119
        }
      },
      "source": [
        "features.columns"
      ],
      "execution_count": 0,
      "outputs": [
        {
          "output_type": "execute_result",
          "data": {
            "text/plain": [
              "Index(['building_id', 'meter', 'month', 'dayofweek', 'hourofday', 'site_id',\n",
              "       'primary_use', 'square_feet', 'year_built', 'floor_count',\n",
              "       'air_temperature', 'cloud_coverage', 'dew_temperature',\n",
              "       'precip_depth_1_hr', 'sea_level_pressure', 'wind_direction',\n",
              "       'wind_speed'],\n",
              "      dtype='object')"
            ]
          },
          "metadata": {
            "tags": []
          },
          "execution_count": 104
        }
      ]
    },
    {
      "cell_type": "code",
      "metadata": {
        "id": "haiIag67Y3Tg",
        "colab_type": "code",
        "outputId": "e16df928-d228-4211-9d40-aae9f73fcbe0",
        "colab": {
          "base_uri": "https://localhost:8080/",
          "height": 119
        }
      },
      "source": [
        "test_df.columns"
      ],
      "execution_count": 0,
      "outputs": [
        {
          "output_type": "execute_result",
          "data": {
            "text/plain": [
              "Index(['building_id', 'meter', 'month', 'dayofweek', 'hourofday', 'site_id',\n",
              "       'primary_use', 'square_feet', 'year_built', 'floor_count',\n",
              "       'air_temperature', 'cloud_coverage', 'dew_temperature',\n",
              "       'precip_depth_1_hr', 'sea_level_pressure', 'wind_direction',\n",
              "       'wind_speed'],\n",
              "      dtype='object')"
            ]
          },
          "metadata": {
            "tags": []
          },
          "execution_count": 105
        }
      ]
    },
    {
      "cell_type": "code",
      "metadata": {
        "id": "7q_1IvIfXVkW",
        "colab_type": "code",
        "outputId": "27c38f8a-38b5-41f0-f650-fac3d3030863",
        "colab": {
          "base_uri": "https://localhost:8080/",
          "height": 544
        }
      },
      "source": [
        "submission=read_and_interpret_data(\"sample_submission.csv\")"
      ],
      "execution_count": 0,
      "outputs": [
        {
          "output_type": "stream",
          "text": [
            "~~~~~~Shape of the data~~~~~~ :  (41697600, 2)\n",
            "~~~~~~Columns and their datatype~~~~~~ : \n",
            "<class 'pandas.core.frame.DataFrame'>\n",
            "RangeIndex: 41697600 entries, 0 to 41697599\n",
            "Data columns (total 2 columns):\n",
            "row_id           int64\n",
            "meter_reading    int64\n",
            "dtypes: int64(2)\n",
            "memory usage: 636.3 MB\n",
            "None\n",
            "~~~~~~Quick Look at the data~~~~~~ : \n",
            "   row_id  meter_reading\n",
            "0       0              0\n",
            "1       1              0\n",
            "2       2              0\n",
            "3       3              0\n",
            "4       4              0\n",
            "~~~~~~Description of the data~~~~~~ : \n",
            "             row_id  meter_reading\n",
            "count  4.169760e+07     41697600.0\n",
            "mean   2.084880e+07            0.0\n",
            "std    1.203706e+07            0.0\n",
            "min    0.000000e+00            0.0\n",
            "25%    1.042440e+07            0.0\n",
            "50%    2.084880e+07            0.0\n",
            "75%    3.127320e+07            0.0\n",
            "max    4.169760e+07            0.0\n",
            "~~~~~~NAs present in the data~~~~~~ : \n",
            "row_id           0\n",
            "meter_reading    0\n",
            "dtype: int64\n"
          ],
          "name": "stdout"
        }
      ]
    },
    {
      "cell_type": "code",
      "metadata": {
        "id": "SCJbVgOAYZxY",
        "colab_type": "code",
        "outputId": "0b2886de-ad94-422d-f631-93d7471b1408",
        "colab": {
          "base_uri": "https://localhost:8080/",
          "height": 34
        }
      },
      "source": [
        "submission= reduce_mem_usage(submission)"
      ],
      "execution_count": 0,
      "outputs": [
        {
          "output_type": "stream",
          "text": [
            "Mem. usage decreased to 198.83 Mb (68.7% reduction)\n"
          ],
          "name": "stdout"
        }
      ]
    },
    {
      "cell_type": "code",
      "metadata": {
        "id": "vWynrlPbZRx2",
        "colab_type": "code",
        "outputId": "4afb0038-b9c2-4289-f610-4ecc4bbe7769",
        "colab": {
          "base_uri": "https://localhost:8080/",
          "height": 63
        }
      },
      "source": [
        "from sklearn.model_selection import train_test_split\n",
        "from sklearn.model_selection import RandomizedSearchCV, GridSearchCV\n",
        "from tensorflow.keras.wrappers.scikit_learn import KerasRegressor\n",
        "from tensorflow.keras.layers import Dense, Dropout, BatchNormalization\n",
        "from tensorflow.keras.optimizers import Adam, RMSprop\n",
        "from tensorflow.keras import Sequential\n",
        "from tensorflow.keras import backend as K"
      ],
      "execution_count": 0,
      "outputs": [
        {
          "output_type": "display_data",
          "data": {
            "text/html": [
              "<p style=\"color: red;\">\n",
              "The default version of TensorFlow in Colab will soon switch to TensorFlow 2.x.<br>\n",
              "We recommend you <a href=\"https://www.tensorflow.org/guide/migrate\" target=\"_blank\">upgrade</a> now \n",
              "or ensure your notebook will continue to use TensorFlow 1.x via the <code>%tensorflow_version 1.x</code> magic:\n",
              "<a href=\"https://colab.research.google.com/notebooks/tensorflow_version.ipynb\" target=\"_blank\">more info</a>.</p>\n"
            ],
            "text/plain": [
              "<IPython.core.display.HTML object>"
            ]
          },
          "metadata": {
            "tags": []
          }
        }
      ]
    },
    {
      "cell_type": "code",
      "metadata": {
        "id": "WEVlc1r1aGG8",
        "colab_type": "code",
        "outputId": "7f797d50-ffe6-408a-87a5-e1f29095da38",
        "colab": {
          "base_uri": "https://localhost:8080/",
          "height": 34
        }
      },
      "source": [
        "features.shape"
      ],
      "execution_count": 0,
      "outputs": [
        {
          "output_type": "execute_result",
          "data": {
            "text/plain": [
              "(20170686, 17)"
            ]
          },
          "metadata": {
            "tags": []
          },
          "execution_count": 109
        }
      ]
    },
    {
      "cell_type": "code",
      "metadata": {
        "id": "utCRF5VXZV9e",
        "colab_type": "code",
        "outputId": "19ee77fd-4e13-49df-9505-ea7f72468629",
        "colab": {
          "base_uri": "https://localhost:8080/",
          "height": 34
        }
      },
      "source": [
        "X_train, X_test, y_train, y_test = train_test_split(features, target, test_size=0.25, random_state=42)\n",
        "\n",
        "print(X_test.shape, X_train.shape, y_test.shape, y_train.shape)"
      ],
      "execution_count": 0,
      "outputs": [
        {
          "output_type": "stream",
          "text": [
            "(5042672, 17) (15128014, 17) (5042672,) (15128014,)\n"
          ],
          "name": "stdout"
        }
      ]
    },
    {
      "cell_type": "code",
      "metadata": {
        "id": "2Sl7GjfsZnnf",
        "colab_type": "code",
        "colab": {}
      },
      "source": [
        "def root_mean_squared_error(y_true, y_pred):\n",
        "    return K.sqrt(K.mean(K.square(y_pred - y_true), axis=0))"
      ],
      "execution_count": 0,
      "outputs": []
    },
    {
      "cell_type": "code",
      "metadata": {
        "id": "zXFCRRZ-aRQx",
        "colab_type": "code",
        "colab": {}
      },
      "source": [
        "def create_model(dense_layer_sizes, optimizer=\"adam\", dropout=0.1, init='uniform', nbr_features=17, dense_nparams=256, lr=0.001):\n",
        "    model = Sequential()\n",
        "    model.add(Dense(dense_nparams, activation='relu', input_shape=(nbr_features,), kernel_initializer=init,)) \n",
        "    model.add(BatchNormalization())\n",
        "    model.add(Dropout(dropout), )\n",
        "    for layer_size in dense_layer_sizes:\n",
        "        model.add(Dense(layer_size, activation='relu'))\n",
        "        model.add(BatchNormalization())\n",
        "        model.add(Dropout(dropout), )\n",
        "    model.add(Dense(1, activation='relu'))\n",
        "    opt = Adam(lr)\n",
        "    model.compile(loss='mse', optimizer=opt, metrics=[root_mean_squared_error])\n",
        "    return model"
      ],
      "execution_count": 0,
      "outputs": []
    },
    {
      "cell_type": "code",
      "metadata": {
        "id": "OuYxuj3BaXg6",
        "colab_type": "code",
        "outputId": "866fd86d-bc26-4691-ae77-5250bfb9121d",
        "colab": {
          "base_uri": "https://localhost:8080/",
          "height": 139
        }
      },
      "source": [
        "model = create_model(dense_layer_sizes=[ 256,128, 64, 32], dropout=0.2, dense_nparams=512)"
      ],
      "execution_count": 0,
      "outputs": [
        {
          "output_type": "stream",
          "text": [
            "WARNING:tensorflow:From /usr/local/lib/python3.6/dist-packages/tensorflow_core/python/keras/initializers.py:119: calling RandomUniform.__init__ (from tensorflow.python.ops.init_ops) with dtype is deprecated and will be removed in a future version.\n",
            "Instructions for updating:\n",
            "Call initializer instance with the dtype argument instead of passing it to the constructor\n",
            "WARNING:tensorflow:From /usr/local/lib/python3.6/dist-packages/tensorflow_core/python/ops/resource_variable_ops.py:1630: calling BaseResourceVariable.__init__ (from tensorflow.python.ops.resource_variable_ops) with constraint is deprecated and will be removed in a future version.\n",
            "Instructions for updating:\n",
            "If using Keras pass *_constraint arguments to layers.\n"
          ],
          "name": "stdout"
        }
      ]
    },
    {
      "cell_type": "code",
      "metadata": {
        "id": "Idk64i-raeI3",
        "colab_type": "code",
        "outputId": "6341e995-bb4d-4449-e468-f00e2b094851",
        "colab": {
          "base_uri": "https://localhost:8080/",
          "height": 1000
        }
      },
      "source": [
        "hist = model.fit(X_train, y_train, epochs=32, batch_size=8192)"
      ],
      "execution_count": 0,
      "outputs": [
        {
          "output_type": "stream",
          "text": [
            "Train on 15128014 samples\n",
            "Epoch 1/32\n",
            "15128014/15128014 [==============================] - 408s 27us/sample - loss: 3.2113 - root_mean_squared_error: 1.7513\n",
            "Epoch 2/32\n",
            "15128014/15128014 [==============================] - 464s 31us/sample - loss: 2.0499 - root_mean_squared_error: 1.4311\n",
            "Epoch 3/32\n",
            "15128014/15128014 [==============================] - 412s 27us/sample - loss: 1.7875 - root_mean_squared_error: 1.3367\n",
            "Epoch 4/32\n",
            "15128014/15128014 [==============================] - 455s 30us/sample - loss: 1.6600 - root_mean_squared_error: 1.2882\n",
            "Epoch 5/32\n",
            "15128014/15128014 [==============================] - 406s 27us/sample - loss: 1.5833 - root_mean_squared_error: 1.2581\n",
            "Epoch 6/32\n",
            "15128014/15128014 [==============================] - 454s 30us/sample - loss: 1.5367 - root_mean_squared_error: 1.2395\n",
            "Epoch 7/32\n",
            "15128014/15128014 [==============================] - 410s 27us/sample - loss: 1.4995 - root_mean_squared_error: 1.2244\n",
            "Epoch 8/32\n",
            "15128014/15128014 [==============================] - 410s 27us/sample - loss: 1.4775 - root_mean_squared_error: 1.2154\n",
            "Epoch 9/32\n",
            "15128014/15128014 [==============================] - 395s 26us/sample - loss: 1.4602 - root_mean_squared_error: 1.2082\n",
            "Epoch 10/32\n",
            "15128014/15128014 [==============================] - 394s 26us/sample - loss: 1.4480 - root_mean_squared_error: 1.2031\n",
            "Epoch 11/32\n",
            "15128014/15128014 [==============================] - 401s 27us/sample - loss: 1.4365 - root_mean_squared_error: 1.1984\n",
            "Epoch 12/32\n",
            "15128014/15128014 [==============================] - 401s 27us/sample - loss: 1.4253 - root_mean_squared_error: 1.1937\n",
            "Epoch 13/32\n",
            "15128014/15128014 [==============================] - 395s 26us/sample - loss: 1.4156 - root_mean_squared_error: 1.1896\n",
            "Epoch 14/32\n",
            "15128014/15128014 [==============================] - 398s 26us/sample - loss: 1.4048 - root_mean_squared_error: 1.1851\n",
            "Epoch 15/32\n",
            "15128014/15128014 [==============================] - 391s 26us/sample - loss: 1.3976 - root_mean_squared_error: 1.1821\n",
            "Epoch 16/32\n",
            "15128014/15128014 [==============================] - 394s 26us/sample - loss: 1.3934 - root_mean_squared_error: 1.1803\n",
            "Epoch 17/32\n",
            "15128014/15128014 [==============================] - 392s 26us/sample - loss: 1.3889 - root_mean_squared_error: 1.1784\n",
            "Epoch 18/32\n",
            "15128014/15128014 [==============================] - 397s 26us/sample - loss: 1.3843 - root_mean_squared_error: 1.1764\n",
            "Epoch 19/32\n",
            "15128014/15128014 [==============================] - 391s 26us/sample - loss: 1.3787 - root_mean_squared_error: 1.1740\n",
            "Epoch 20/32\n",
            "15128014/15128014 [==============================] - 402s 27us/sample - loss: 1.3744 - root_mean_squared_error: 1.1722\n",
            "Epoch 21/32\n",
            "15128014/15128014 [==============================] - 405s 27us/sample - loss: 1.3692 - root_mean_squared_error: 1.1700\n",
            "Epoch 22/32\n",
            "15128014/15128014 [==============================] - 411s 27us/sample - loss: 1.3674 - root_mean_squared_error: 1.1692\n",
            "Epoch 23/32\n",
            "15128014/15128014 [==============================] - 402s 27us/sample - loss: 1.3657 - root_mean_squared_error: 1.1685\n",
            "Epoch 24/32\n",
            "15128014/15128014 [==============================] - 403s 27us/sample - loss: 1.3612 - root_mean_squared_error: 1.1665\n",
            "Epoch 25/32\n",
            "15128014/15128014 [==============================] - 400s 26us/sample - loss: 1.3577 - root_mean_squared_error: 1.1651\n",
            "Epoch 26/32\n",
            "15128014/15128014 [==============================] - 401s 27us/sample - loss: 1.3558 - root_mean_squared_error: 1.1642\n",
            "Epoch 27/32\n",
            "15128014/15128014 [==============================] - 391s 26us/sample - loss: 1.3543 - root_mean_squared_error: 1.1636\n",
            "Epoch 28/32\n",
            "15128014/15128014 [==============================] - 396s 26us/sample - loss: 1.3513 - root_mean_squared_error: 1.1623\n",
            "Epoch 29/32\n",
            "15128014/15128014 [==============================] - 393s 26us/sample - loss: 1.3470 - root_mean_squared_error: 1.1604\n",
            "Epoch 30/32\n",
            "15128014/15128014 [==============================] - 396s 26us/sample - loss: 1.3475 - root_mean_squared_error: 1.1606\n",
            "Epoch 31/32\n",
            "15128014/15128014 [==============================] - 389s 26us/sample - loss: 1.3441 - root_mean_squared_error: 1.1592\n",
            "Epoch 32/32\n",
            "15128014/15128014 [==============================] - 391s 26us/sample - loss: 1.3408 - root_mean_squared_error: 1.1578\n"
          ],
          "name": "stdout"
        }
      ]
    },
    {
      "cell_type": "code",
      "metadata": {
        "id": "Y7flqiAV6PG4",
        "colab_type": "code",
        "colab": {}
      },
      "source": [
        "y_pred = model.predict(test_df.values, batch_size=8192, verbose=1)"
      ],
      "execution_count": 0,
      "outputs": []
    },
    {
      "cell_type": "code",
      "metadata": {
        "id": "HB8eDJWe6boN",
        "colab_type": "code",
        "colab": {}
      },
      "source": [
        "submission['meter_reading'] = np.log1p(submission['meter_reading'])\n",
        "submission['meter_reading'] = np.expm1(y_pred)"
      ],
      "execution_count": 0,
      "outputs": []
    },
    {
      "cell_type": "code",
      "metadata": {
        "id": "un0qZ7847BzI",
        "colab_type": "code",
        "colab": {}
      },
      "source": [
        "csv = submission.to_csv('./my-submission.csv', index=False)"
      ],
      "execution_count": 0,
      "outputs": []
    },
    {
      "cell_type": "code",
      "metadata": {
        "id": "0lu1usjY7K-V",
        "colab_type": "code",
        "colab": {}
      },
      "source": [
        "!kaggle competitions submit ashrae-energy-prediction -f my-submission.csv -m 'Final submission'"
      ],
      "execution_count": 0,
      "outputs": []
    }
  ]
}